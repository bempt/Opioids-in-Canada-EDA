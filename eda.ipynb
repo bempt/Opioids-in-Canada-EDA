{
 "cells": [
  {
   "attachments": {},
   "cell_type": "markdown",
   "metadata": {},
   "source": [
    "- Environment name: opioid-eda"
   ]
  },
  {
   "attachments": {},
   "cell_type": "markdown",
   "metadata": {},
   "source": [
    "# Data"
   ]
  },
  {
   "attachments": {},
   "cell_type": "markdown",
   "metadata": {},
   "source": [
    "## Download"
   ]
  },
  {
   "cell_type": "code",
   "execution_count": 1,
   "metadata": {},
   "outputs": [
    {
     "name": "stdout",
     "output_type": "stream",
     "text": [
      "Requirement already satisfied: kaggle in /home/bennett/anaconda3/envs/opioid-eda/lib/python3.11/site-packages (1.5.13)\n",
      "Requirement already satisfied: six>=1.10 in /home/bennett/anaconda3/envs/opioid-eda/lib/python3.11/site-packages (from kaggle) (1.16.0)\n",
      "Requirement already satisfied: certifi in /home/bennett/anaconda3/envs/opioid-eda/lib/python3.11/site-packages (from kaggle) (2022.12.7)\n",
      "Requirement already satisfied: python-dateutil in /home/bennett/anaconda3/envs/opioid-eda/lib/python3.11/site-packages (from kaggle) (2.8.2)\n",
      "Requirement already satisfied: requests in /home/bennett/anaconda3/envs/opioid-eda/lib/python3.11/site-packages (from kaggle) (2.28.2)\n",
      "Requirement already satisfied: tqdm in /home/bennett/anaconda3/envs/opioid-eda/lib/python3.11/site-packages (from kaggle) (4.65.0)\n",
      "Requirement already satisfied: python-slugify in /home/bennett/anaconda3/envs/opioid-eda/lib/python3.11/site-packages (from kaggle) (8.0.1)\n",
      "Requirement already satisfied: urllib3 in /home/bennett/anaconda3/envs/opioid-eda/lib/python3.11/site-packages (from kaggle) (1.26.15)\n",
      "Requirement already satisfied: text-unidecode>=1.3 in /home/bennett/anaconda3/envs/opioid-eda/lib/python3.11/site-packages (from python-slugify->kaggle) (1.3)\n",
      "Requirement already satisfied: charset-normalizer<4,>=2 in /home/bennett/anaconda3/envs/opioid-eda/lib/python3.11/site-packages (from requests->kaggle) (3.1.0)\n",
      "Requirement already satisfied: idna<4,>=2.5 in /home/bennett/anaconda3/envs/opioid-eda/lib/python3.11/site-packages (from requests->kaggle) (3.4)\n",
      "opioids-in-canada.zip: Skipping, found more recently modified local copy (use --force to force download)\n",
      "Archive:  opioids-in-canada.zip\n",
      "replace Canada opioid and stimulant Subtance Harms Data June 2022.csv? [y]es, [n]o, [A]ll, [N]one, [r]ename: ^C\n"
     ]
    }
   ],
   "source": [
    "# !pip install kaggle\n",
    "# !kaggle datasets download -d craigchilvers/opioids-in-canada\n",
    "# !unzip opioids-in-canada.zip"
   ]
  },
  {
   "cell_type": "code",
   "execution_count": null,
   "metadata": {},
   "outputs": [
    {
     "data": {
      "text/html": [
       "<div>\n",
       "<style scoped>\n",
       "    .dataframe tbody tr th:only-of-type {\n",
       "        vertical-align: middle;\n",
       "    }\n",
       "\n",
       "    .dataframe tbody tr th {\n",
       "        vertical-align: top;\n",
       "    }\n",
       "\n",
       "    .dataframe thead th {\n",
       "        text-align: right;\n",
       "    }\n",
       "</style>\n",
       "<table border=\"1\" class=\"dataframe\">\n",
       "  <thead>\n",
       "    <tr style=\"text-align: right;\">\n",
       "      <th></th>\n",
       "      <th>Province name</th>\n",
       "      <th>Population (2021 Census)</th>\n",
       "      <th>Land area (km^2)</th>\n",
       "      <th>Population per km^2</th>\n",
       "      <th>GDP (million CAD, 2019)</th>\n",
       "      <th>GDP per capita (CAD, 2019)</th>\n",
       "      <th>Market income per capita (CAD, 2019)</th>\n",
       "    </tr>\n",
       "  </thead>\n",
       "  <tbody>\n",
       "    <tr>\n",
       "      <th>0</th>\n",
       "      <td>NaN</td>\n",
       "      <td>NaN</td>\n",
       "      <td>NaN</td>\n",
       "      <td>NaN</td>\n",
       "      <td>NaN</td>\n",
       "      <td>NaN</td>\n",
       "      <td>NaN</td>\n",
       "    </tr>\n",
       "    <tr>\n",
       "      <th>1</th>\n",
       "      <td>Ontario</td>\n",
       "      <td>14,223,942</td>\n",
       "      <td>908,699.33</td>\n",
       "      <td>15.653079</td>\n",
       "      <td>891,811</td>\n",
       "      <td>54,149</td>\n",
       "      <td>36,298</td>\n",
       "    </tr>\n",
       "    <tr>\n",
       "      <th>2</th>\n",
       "      <td>Quebec</td>\n",
       "      <td>8,501,833</td>\n",
       "      <td>1,356,625.27</td>\n",
       "      <td>6.266899</td>\n",
       "      <td>460,357</td>\n",
       "      <td>54,149</td>\n",
       "      <td>32,351</td>\n",
       "    </tr>\n",
       "    <tr>\n",
       "      <th>3</th>\n",
       "      <td>British Columbia</td>\n",
       "      <td>5,000,879</td>\n",
       "      <td>922,503.01</td>\n",
       "      <td>5.420989</td>\n",
       "      <td>309,059</td>\n",
       "      <td>60,707</td>\n",
       "      <td>36,723</td>\n",
       "    </tr>\n",
       "    <tr>\n",
       "      <th>4</th>\n",
       "      <td>Alberta</td>\n",
       "      <td>4,262,635</td>\n",
       "      <td>640,330.46</td>\n",
       "      <td>6.656930</td>\n",
       "      <td>352,884</td>\n",
       "      <td>80,905</td>\n",
       "      <td>40,094</td>\n",
       "    </tr>\n",
       "  </tbody>\n",
       "</table>\n",
       "</div>"
      ],
      "text/plain": [
       "      Province name Population (2021 Census) Land area (km^2)   \n",
       "0               NaN                      NaN              NaN  \\\n",
       "1           Ontario               14,223,942       908,699.33   \n",
       "2            Quebec                8,501,833     1,356,625.27   \n",
       "3  British Columbia                5,000,879       922,503.01   \n",
       "4           Alberta                4,262,635       640,330.46   \n",
       "\n",
       "   Population per km^2 GDP (million CAD, 2019) GDP per capita (CAD, 2019)   \n",
       "0                  NaN                     NaN                        NaN  \\\n",
       "1            15.653079                 891,811                     54,149   \n",
       "2             6.266899                 460,357                     54,149   \n",
       "3             5.420989                 309,059                     60,707   \n",
       "4             6.656930                 352,884                     80,905   \n",
       "\n",
       "  Market income per capita (CAD, 2019)  \n",
       "0                                  NaN  \n",
       "1                               36,298  \n",
       "2                               32,351  \n",
       "3                               36,723  \n",
       "4                               40,094  "
      ]
     },
     "execution_count": 5,
     "metadata": {},
     "output_type": "execute_result"
    }
   ],
   "source": [
    "# load the data\n",
    "import pandas as pd\n",
    "import numpy as np\n",
    "import matplotlib.pyplot as plt\n",
    "import seaborn as sns\n",
    "sns.set()"
   ]
  },
  {
   "attachments": {},
   "cell_type": "markdown",
   "metadata": {},
   "source": [
    "# Examine Canadian Population and GDP Statistics Data"
   ]
  },
  {
   "cell_type": "code",
   "execution_count": null,
   "metadata": {},
   "outputs": [],
   "source": [
    "df_can_stats = pd.read_csv('Canada population and GDP by province.csv')\n",
    "df_can_stats.head()"
   ]
  },
  {
   "cell_type": "code",
   "execution_count": null,
   "metadata": {},
   "outputs": [
    {
     "data": {
      "text/plain": [
       "Province name                           1\n",
       "Population (2021 Census)                1\n",
       "Land area (km^2)                        1\n",
       "Population per km^2                     1\n",
       "GDP (million CAD, 2019)                 1\n",
       "GDP per capita (CAD, 2019)              1\n",
       "Market income per capita (CAD, 2019)    1\n",
       "dtype: int64"
      ]
     },
     "execution_count": 6,
     "metadata": {},
     "output_type": "execute_result"
    }
   ],
   "source": [
    "# check for missing values\n",
    "df_can_stats.isnull().sum()"
   ]
  },
  {
   "cell_type": "code",
   "execution_count": null,
   "metadata": {},
   "outputs": [
    {
     "name": "stdout",
     "output_type": "stream",
     "text": [
      "  Province name Population (2021 Census) Land area (km^2)   \n",
      "0           NaN                      NaN              NaN  \\\n",
      "\n",
      "   Population per km^2 GDP (million CAD, 2019) GDP per capita (CAD, 2019)   \n",
      "0                  NaN                     NaN                        NaN  \\\n",
      "\n",
      "  Market income per capita (CAD, 2019)  \n",
      "0                                  NaN  \n"
     ]
    }
   ],
   "source": [
    "# check rows with missing values\n",
    "missing_values = df_can_stats.isnull().any(axis=1)\n",
    "rows_with_missing_values = df_can_stats[missing_values]\n",
    "print(rows_with_missing_values)"
   ]
  },
  {
   "cell_type": "code",
   "execution_count": null,
   "metadata": {},
   "outputs": [
    {
     "data": {
      "text/plain": [
       "Province name                           0\n",
       "Population (2021 Census)                0\n",
       "Land area (km^2)                        0\n",
       "Population per km^2                     0\n",
       "GDP (million CAD, 2019)                 0\n",
       "GDP per capita (CAD, 2019)              0\n",
       "Market income per capita (CAD, 2019)    0\n",
       "dtype: int64"
      ]
     },
     "execution_count": 8,
     "metadata": {},
     "output_type": "execute_result"
    }
   ],
   "source": [
    "# drop rows with missing values\n",
    "df = df_can_stats.dropna()\n",
    "df.isnull().sum()"
   ]
  },
  {
   "cell_type": "code",
   "execution_count": null,
   "metadata": {},
   "outputs": [
    {
     "data": {
      "text/plain": [
       "0"
      ]
     },
     "execution_count": 9,
     "metadata": {},
     "output_type": "execute_result"
    }
   ],
   "source": [
    "# check for duplicates\n",
    "df_can_stats.duplicated().sum()"
   ]
  },
  {
   "cell_type": "code",
   "execution_count": null,
   "metadata": {},
   "outputs": [
    {
     "data": {
      "text/html": [
       "<div>\n",
       "<style scoped>\n",
       "    .dataframe tbody tr th:only-of-type {\n",
       "        vertical-align: middle;\n",
       "    }\n",
       "\n",
       "    .dataframe tbody tr th {\n",
       "        vertical-align: top;\n",
       "    }\n",
       "\n",
       "    .dataframe thead th {\n",
       "        text-align: right;\n",
       "    }\n",
       "</style>\n",
       "<table border=\"1\" class=\"dataframe\">\n",
       "  <thead>\n",
       "    <tr style=\"text-align: right;\">\n",
       "      <th></th>\n",
       "      <th>Population per km^2</th>\n",
       "    </tr>\n",
       "  </thead>\n",
       "  <tbody>\n",
       "    <tr>\n",
       "      <th>count</th>\n",
       "      <td>13.000000</td>\n",
       "    </tr>\n",
       "    <tr>\n",
       "      <th>mean</th>\n",
       "      <td>7.399083</td>\n",
       "    </tr>\n",
       "    <tr>\n",
       "      <th>std</th>\n",
       "      <td>8.405390</td>\n",
       "    </tr>\n",
       "    <tr>\n",
       "      <th>min</th>\n",
       "      <td>0.019629</td>\n",
       "    </tr>\n",
       "    <tr>\n",
       "      <th>25%</th>\n",
       "      <td>1.377950</td>\n",
       "    </tr>\n",
       "    <tr>\n",
       "      <th>50%</th>\n",
       "      <td>5.420989</td>\n",
       "    </tr>\n",
       "    <tr>\n",
       "      <th>75%</th>\n",
       "      <td>10.864588</td>\n",
       "    </tr>\n",
       "    <tr>\n",
       "      <th>max</th>\n",
       "      <td>27.142136</td>\n",
       "    </tr>\n",
       "  </tbody>\n",
       "</table>\n",
       "</div>"
      ],
      "text/plain": [
       "       Population per km^2\n",
       "count            13.000000\n",
       "mean              7.399083\n",
       "std               8.405390\n",
       "min               0.019629\n",
       "25%               1.377950\n",
       "50%               5.420989\n",
       "75%              10.864588\n",
       "max              27.142136"
      ]
     },
     "execution_count": 10,
     "metadata": {},
     "output_type": "execute_result"
    }
   ],
   "source": [
    "# check distribution of numeric columns\n",
    "df_can_stats.describe()"
   ]
  },
  {
   "cell_type": "code",
   "execution_count": null,
   "metadata": {},
   "outputs": [
    {
     "data": {
      "text/html": [
       "<div>\n",
       "<style scoped>\n",
       "    .dataframe tbody tr th:only-of-type {\n",
       "        vertical-align: middle;\n",
       "    }\n",
       "\n",
       "    .dataframe tbody tr th {\n",
       "        vertical-align: top;\n",
       "    }\n",
       "\n",
       "    .dataframe thead th {\n",
       "        text-align: right;\n",
       "    }\n",
       "</style>\n",
       "<table border=\"1\" class=\"dataframe\">\n",
       "  <thead>\n",
       "    <tr style=\"text-align: right;\">\n",
       "      <th></th>\n",
       "      <th>Province name</th>\n",
       "      <th>Population (2021 Census)</th>\n",
       "      <th>Land area (km^2)</th>\n",
       "      <th>GDP (million CAD, 2019)</th>\n",
       "      <th>GDP per capita (CAD, 2019)</th>\n",
       "      <th>Market income per capita (CAD, 2019)</th>\n",
       "    </tr>\n",
       "  </thead>\n",
       "  <tbody>\n",
       "    <tr>\n",
       "      <th>count</th>\n",
       "      <td>13</td>\n",
       "      <td>13</td>\n",
       "      <td>13</td>\n",
       "      <td>13</td>\n",
       "      <td>13</td>\n",
       "      <td>13</td>\n",
       "    </tr>\n",
       "    <tr>\n",
       "      <th>unique</th>\n",
       "      <td>13</td>\n",
       "      <td>13</td>\n",
       "      <td>13</td>\n",
       "      <td>13</td>\n",
       "      <td>12</td>\n",
       "      <td>13</td>\n",
       "    </tr>\n",
       "    <tr>\n",
       "      <th>top</th>\n",
       "      <td>Ontario</td>\n",
       "      <td>14,223,942</td>\n",
       "      <td>908,699.33</td>\n",
       "      <td>891,811</td>\n",
       "      <td>54,149</td>\n",
       "      <td>36,298</td>\n",
       "    </tr>\n",
       "    <tr>\n",
       "      <th>freq</th>\n",
       "      <td>1</td>\n",
       "      <td>1</td>\n",
       "      <td>1</td>\n",
       "      <td>1</td>\n",
       "      <td>2</td>\n",
       "      <td>1</td>\n",
       "    </tr>\n",
       "  </tbody>\n",
       "</table>\n",
       "</div>"
      ],
      "text/plain": [
       "       Province name Population (2021 Census) Land area (km^2)   \n",
       "count             13                       13               13  \\\n",
       "unique            13                       13               13   \n",
       "top          Ontario               14,223,942       908,699.33   \n",
       "freq               1                        1                1   \n",
       "\n",
       "       GDP (million CAD, 2019) GDP per capita (CAD, 2019)   \n",
       "count                       13                         13  \\\n",
       "unique                      13                         12   \n",
       "top                    891,811                     54,149   \n",
       "freq                         1                          2   \n",
       "\n",
       "       Market income per capita (CAD, 2019)  \n",
       "count                                    13  \n",
       "unique                                   13  \n",
       "top                                  36,298  \n",
       "freq                                      1  "
      ]
     },
     "execution_count": 11,
     "metadata": {},
     "output_type": "execute_result"
    }
   ],
   "source": [
    "# check distribution of categorical columns\n",
    "df_can_stats.describe(include='O')"
   ]
  },
  {
   "cell_type": "code",
   "execution_count": null,
   "metadata": {},
   "outputs": [
    {
     "name": "stdout",
     "output_type": "stream",
     "text": [
      "13\n"
     ]
    }
   ],
   "source": [
    "# check distribution of categorical columns using value_counts()\n",
    "print(len(df_can_stats['Province name'].value_counts()))\n",
    "# 13 matches the 10 Canadian provinces and 3 territories"
   ]
  },
  {
   "attachments": {},
   "cell_type": "markdown",
   "metadata": {},
   "source": [
    "# Examine Opioid and Stimulent Substance Harm Data"
   ]
  },
  {
   "cell_type": "code",
   "execution_count": null,
   "metadata": {},
   "outputs": [],
   "source": []
  }
 ],
 "metadata": {
  "kernelspec": {
   "display_name": "opioid-eda",
   "language": "python",
   "name": "python3"
  },
  "language_info": {
   "codemirror_mode": {
    "name": "ipython",
    "version": 3
   },
   "file_extension": ".py",
   "mimetype": "text/x-python",
   "name": "python",
   "nbconvert_exporter": "python",
   "pygments_lexer": "ipython3",
   "version": "3.11.3"
  },
  "orig_nbformat": 4
 },
 "nbformat": 4,
 "nbformat_minor": 2
}
