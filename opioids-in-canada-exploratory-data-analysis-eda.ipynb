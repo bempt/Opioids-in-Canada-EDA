{
 "cells": [
  {
   "cell_type": "markdown",
   "id": "fa3a778f",
   "metadata": {},
   "source": [
    "# Dev Notes"
   ]
  },
  {
   "cell_type": "markdown",
   "id": "cb2664b6",
   "metadata": {},
   "source": [
    "- Use the second CSV that includes all of the provincial economic stats\n",
    "- Use these notebooks:\n",
    "-- https://www.kaggle.com/code/craigchilvers/opioids-in-the-us-initial-data-cleaning\n",
    "-- https://www.kaggle.com/code/craigchilvers/opioids-in-the-us-initial-graphs\n",
    "-- https://www.kaggle.com/code/craigchilvers/us-drug-overdose-eda-and-visualisation/notebook#Exploratory-Data-Analysis\n",
    "- Left off in the first notebook at the date formatting part."
   ]
  },
  {
   "cell_type": "markdown",
   "id": "200b52a8",
   "metadata": {},
   "source": [
    "# Introduction"
   ]
  },
  {
   "cell_type": "markdown",
   "id": "e22dd2dd",
   "metadata": {},
   "source": [
    "- Data is included for stimulants and opioids. This analysis is solely focused on opioids."
   ]
  },
  {
   "cell_type": "code",
   "execution_count": 1,
   "id": "857c0e8e",
   "metadata": {
    "_cell_guid": "b1076dfc-b9ad-4769-8c92-a6c4dae69d19",
    "_uuid": "8f2839f25d086af736a60e9eeb907d3b93b6e0e5",
    "execution": {
     "iopub.execute_input": "2022-11-29T20:18:19.638014Z",
     "iopub.status.busy": "2022-11-29T20:18:19.637255Z",
     "iopub.status.idle": "2022-11-29T20:18:19.657508Z",
     "shell.execute_reply": "2022-11-29T20:18:19.656144Z"
    },
    "papermill": {
     "duration": 0.031064,
     "end_time": "2022-11-29T20:18:19.660144",
     "exception": false,
     "start_time": "2022-11-29T20:18:19.629080",
     "status": "completed"
    },
    "tags": []
   },
   "outputs": [],
   "source": [
    "# This Python 3 environment comes with many helpful analytics libraries installed\n",
    "# It is defined by the kaggle/python Docker image: https://github.com/kaggle/docker-python\n",
    "# For example, here's several helpful packages to load\n",
    "\n",
    "import numpy as np # linear algebra\n",
    "import pandas as pd # data processing, CSV file I/O (e.g. pd.read_csv)\n",
    "\n",
    "# Input data files are available in the read-only \"../input/\" directory\n",
    "# For example, running this (by clicking run or pressing Shift+Enter) will list all files under the input directory\n",
    "\n",
    "import os\n",
    "for dirname, _, filenames in os.walk('/kaggle/input'):\n",
    "    for filename in filenames:\n",
    "        print(os.path.join(dirname, filename))\n",
    "\n",
    "# You can write up to 20GB to the current directory (/kaggle/working/) that gets preserved as output when you create a version using \"Save & Run All\" \n",
    "# You can also write temporary files to /kaggle/temp/, but they won't be saved outside of the current session"
   ]
  },
  {
   "cell_type": "markdown",
   "id": "7452781c",
   "metadata": {
    "papermill": {
     "duration": 0.004984,
     "end_time": "2022-11-29T20:18:19.721811",
     "exception": false,
     "start_time": "2022-11-29T20:18:19.716827",
     "status": "completed"
    },
    "tags": []
   },
   "source": [
    "## Setup"
   ]
  },
  {
   "cell_type": "code",
   "execution_count": 2,
   "id": "2b34eb95",
   "metadata": {
    "execution": {
     "iopub.execute_input": "2022-11-29T20:18:19.734920Z",
     "iopub.status.busy": "2022-11-29T20:18:19.734431Z",
     "iopub.status.idle": "2022-11-29T20:18:20.538010Z",
     "shell.execute_reply": "2022-11-29T20:18:20.537332Z"
    },
    "papermill": {
     "duration": 0.81306,
     "end_time": "2022-11-29T20:18:20.540158",
     "exception": false,
     "start_time": "2022-11-29T20:18:19.727098",
     "status": "completed"
    },
    "tags": []
   },
   "outputs": [],
   "source": [
    "import numpy as np\n",
    "import pandas as pd\n",
    "pd.plotting.register_matplotlib_converters()\n",
    "import matplotlib.pyplot as plt\n",
    "%matplotlib inline\n",
    "import seaborn as sns"
   ]
  },
  {
   "cell_type": "code",
   "execution_count": 3,
   "id": "9f5120d1",
   "metadata": {
    "execution": {
     "iopub.execute_input": "2022-11-29T20:18:20.552551Z",
     "iopub.status.busy": "2022-11-29T20:18:20.552238Z",
     "iopub.status.idle": "2022-11-29T20:18:20.557573Z",
     "shell.execute_reply": "2022-11-29T20:18:20.556517Z"
    },
    "papermill": {
     "duration": 0.013883,
     "end_time": "2022-11-29T20:18:20.559671",
     "exception": false,
     "start_time": "2022-11-29T20:18:20.545788",
     "status": "completed"
    },
    "tags": []
   },
   "outputs": [],
   "source": [
    "import os\n",
    "for dirname, _, filenames in os.walk('/kaggle/input'):\n",
    "    for filename in filenames:\n",
    "        print(os.path.join(dirname, filename))"
   ]
  },
  {
   "cell_type": "code",
   "execution_count": 4,
   "id": "d721f107",
   "metadata": {
    "execution": {
     "iopub.execute_input": "2022-11-29T20:18:20.571895Z",
     "iopub.status.busy": "2022-11-29T20:18:20.571597Z",
     "iopub.status.idle": "2022-11-29T20:18:20.619995Z",
     "shell.execute_reply": "2022-11-29T20:18:20.619195Z"
    },
    "papermill": {
     "duration": 0.056923,
     "end_time": "2022-11-29T20:18:20.622179",
     "exception": false,
     "start_time": "2022-11-29T20:18:20.565256",
     "status": "completed"
    },
    "tags": []
   },
   "outputs": [],
   "source": [
    "# save filepath to variable for easier access\n",
    "# drug_overdose_filepath = '../input/opioids-in-canada/Canada opioid and stimulant Subtance Harms Data June 2022.csv'\n",
    "\n",
    "overdose_filepath = '/home/bennett/git/Opioids-in-Canada-EDA/input/opioids-in-canada/Canada opioid and stimulant Subtance Harms Data June 2022.csv'\n",
    "canstats_filepath = '/home/bennett/git/Opioids-in-Canada-EDA/input/opioids-in-canada/Canada population and GDP by province.csv' \n",
    "\n",
    "# read data and store in dataframe\n",
    "# add encoding to prevent a 'UnicodeDecodeError'\n",
    "df = pd.read_csv(overdose_filepath, encoding = \"ISO-8859-1\")\n",
    "canstats = pd.read_csv(canstats_filepath, encoding = \"ISO-8859-1\")"
   ]
  },
  {
   "cell_type": "markdown",
   "id": "ead76ddd",
   "metadata": {},
   "source": [
    "## Data Cleaning"
   ]
  },
  {
   "cell_type": "code",
   "execution_count": 5,
   "id": "430649c5",
   "metadata": {},
   "outputs": [
    {
     "data": {
      "text/html": [
       "<div>\n",
       "<style scoped>\n",
       "    .dataframe tbody tr th:only-of-type {\n",
       "        vertical-align: middle;\n",
       "    }\n",
       "\n",
       "    .dataframe tbody tr th {\n",
       "        vertical-align: top;\n",
       "    }\n",
       "\n",
       "    .dataframe thead th {\n",
       "        text-align: right;\n",
       "    }\n",
       "</style>\n",
       "<table border=\"1\" class=\"dataframe\">\n",
       "  <thead>\n",
       "    <tr style=\"text-align: right;\">\n",
       "      <th></th>\n",
       "      <th>Substance</th>\n",
       "      <th>Source</th>\n",
       "      <th>Specific_Measure</th>\n",
       "      <th>Type_Event</th>\n",
       "      <th>Region</th>\n",
       "      <th>PRUID</th>\n",
       "      <th>Time_Period</th>\n",
       "      <th>Year_Quarter</th>\n",
       "      <th>Aggregator</th>\n",
       "      <th>Disaggregator</th>\n",
       "      <th>Unit</th>\n",
       "      <th>Value</th>\n",
       "    </tr>\n",
       "  </thead>\n",
       "  <tbody>\n",
       "    <tr>\n",
       "      <th>0</th>\n",
       "      <td>Opioids</td>\n",
       "      <td>Deaths</td>\n",
       "      <td>Overall numbers</td>\n",
       "      <td>Total apparent opioid toxicity deaths</td>\n",
       "      <td>Canada</td>\n",
       "      <td>1</td>\n",
       "      <td>By year</td>\n",
       "      <td>2016</td>\n",
       "      <td>NaN</td>\n",
       "      <td>NaN</td>\n",
       "      <td>Crude rate</td>\n",
       "      <td>7.8</td>\n",
       "    </tr>\n",
       "    <tr>\n",
       "      <th>1</th>\n",
       "      <td>Opioids</td>\n",
       "      <td>Deaths</td>\n",
       "      <td>Overall numbers</td>\n",
       "      <td>Total apparent opioid toxicity deaths</td>\n",
       "      <td>Canada</td>\n",
       "      <td>1</td>\n",
       "      <td>By year</td>\n",
       "      <td>2016</td>\n",
       "      <td>NaN</td>\n",
       "      <td>NaN</td>\n",
       "      <td>Number</td>\n",
       "      <td>2829</td>\n",
       "    </tr>\n",
       "    <tr>\n",
       "      <th>2</th>\n",
       "      <td>Opioids</td>\n",
       "      <td>Deaths</td>\n",
       "      <td>Overall numbers</td>\n",
       "      <td>Total apparent opioid toxicity deaths</td>\n",
       "      <td>Canada</td>\n",
       "      <td>1</td>\n",
       "      <td>By year</td>\n",
       "      <td>2016</td>\n",
       "      <td>NaN</td>\n",
       "      <td>NaN</td>\n",
       "      <td>Age-adjusted rate</td>\n",
       "      <td>7.8</td>\n",
       "    </tr>\n",
       "    <tr>\n",
       "      <th>3</th>\n",
       "      <td>Opioids</td>\n",
       "      <td>Deaths</td>\n",
       "      <td>Overall numbers</td>\n",
       "      <td>Total apparent opioid toxicity deaths</td>\n",
       "      <td>Canada</td>\n",
       "      <td>1</td>\n",
       "      <td>By year</td>\n",
       "      <td>2017</td>\n",
       "      <td>NaN</td>\n",
       "      <td>NaN</td>\n",
       "      <td>Crude rate</td>\n",
       "      <td>10.7</td>\n",
       "    </tr>\n",
       "    <tr>\n",
       "      <th>4</th>\n",
       "      <td>Opioids</td>\n",
       "      <td>Deaths</td>\n",
       "      <td>Overall numbers</td>\n",
       "      <td>Total apparent opioid toxicity deaths</td>\n",
       "      <td>Canada</td>\n",
       "      <td>1</td>\n",
       "      <td>By year</td>\n",
       "      <td>2017</td>\n",
       "      <td>NaN</td>\n",
       "      <td>NaN</td>\n",
       "      <td>Number</td>\n",
       "      <td>3921</td>\n",
       "    </tr>\n",
       "  </tbody>\n",
       "</table>\n",
       "</div>"
      ],
      "text/plain": [
       "  Substance  Source Specific_Measure                             Type_Event  \\\n",
       "0   Opioids  Deaths  Overall numbers  Total apparent opioid toxicity deaths   \n",
       "1   Opioids  Deaths  Overall numbers  Total apparent opioid toxicity deaths   \n",
       "2   Opioids  Deaths  Overall numbers  Total apparent opioid toxicity deaths   \n",
       "3   Opioids  Deaths  Overall numbers  Total apparent opioid toxicity deaths   \n",
       "4   Opioids  Deaths  Overall numbers  Total apparent opioid toxicity deaths   \n",
       "\n",
       "   Region  PRUID Time_Period Year_Quarter Aggregator Disaggregator  \\\n",
       "0  Canada      1     By year         2016        NaN           NaN   \n",
       "1  Canada      1     By year         2016        NaN           NaN   \n",
       "2  Canada      1     By year         2016        NaN           NaN   \n",
       "3  Canada      1     By year         2017        NaN           NaN   \n",
       "4  Canada      1     By year         2017        NaN           NaN   \n",
       "\n",
       "                Unit Value  \n",
       "0         Crude rate   7.8  \n",
       "1             Number  2829  \n",
       "2  Age-adjusted rate   7.8  \n",
       "3         Crude rate  10.7  \n",
       "4             Number  3921  "
      ]
     },
     "execution_count": 5,
     "metadata": {},
     "output_type": "execute_result"
    }
   ],
   "source": [
    "# let's take a look at the data\n",
    "df.head()"
   ]
  },
  {
   "cell_type": "code",
   "execution_count": 6,
   "id": "1c76c78c",
   "metadata": {},
   "outputs": [
    {
     "data": {
      "text/html": [
       "<div>\n",
       "<style scoped>\n",
       "    .dataframe tbody tr th:only-of-type {\n",
       "        vertical-align: middle;\n",
       "    }\n",
       "\n",
       "    .dataframe tbody tr th {\n",
       "        vertical-align: top;\n",
       "    }\n",
       "\n",
       "    .dataframe thead th {\n",
       "        text-align: right;\n",
       "    }\n",
       "</style>\n",
       "<table border=\"1\" class=\"dataframe\">\n",
       "  <thead>\n",
       "    <tr style=\"text-align: right;\">\n",
       "      <th></th>\n",
       "      <th>Substance</th>\n",
       "      <th>Source</th>\n",
       "      <th>Specific_Measure</th>\n",
       "      <th>Type_Event</th>\n",
       "      <th>Region</th>\n",
       "      <th>PRUID</th>\n",
       "      <th>Time_Period</th>\n",
       "      <th>Year_Quarter</th>\n",
       "      <th>Aggregator</th>\n",
       "      <th>Disaggregator</th>\n",
       "      <th>Unit</th>\n",
       "      <th>Value</th>\n",
       "    </tr>\n",
       "  </thead>\n",
       "  <tbody>\n",
       "    <tr>\n",
       "      <th>12154</th>\n",
       "      <td>Stimulants</td>\n",
       "      <td>Hospitalizations</td>\n",
       "      <td>Age group by sex</td>\n",
       "      <td>Intentional stimulant-related poisoning hospit...</td>\n",
       "      <td>Canada</td>\n",
       "      <td>1</td>\n",
       "      <td>By year</td>\n",
       "      <td>2016</td>\n",
       "      <td>40 to 49 years</td>\n",
       "      <td>Male</td>\n",
       "      <td>Number</td>\n",
       "      <td>41</td>\n",
       "    </tr>\n",
       "    <tr>\n",
       "      <th>12155</th>\n",
       "      <td>Stimulants</td>\n",
       "      <td>Hospitalizations</td>\n",
       "      <td>Age group by sex</td>\n",
       "      <td>Intentional stimulant-related poisoning hospit...</td>\n",
       "      <td>Canada</td>\n",
       "      <td>1</td>\n",
       "      <td>By year</td>\n",
       "      <td>2016</td>\n",
       "      <td>50 to 59 years</td>\n",
       "      <td>Female</td>\n",
       "      <td>Number</td>\n",
       "      <td>31</td>\n",
       "    </tr>\n",
       "    <tr>\n",
       "      <th>12156</th>\n",
       "      <td>Stimulants</td>\n",
       "      <td>Hospitalizations</td>\n",
       "      <td>Age group by sex</td>\n",
       "      <td>Intentional stimulant-related poisoning hospit...</td>\n",
       "      <td>Canada</td>\n",
       "      <td>1</td>\n",
       "      <td>By year</td>\n",
       "      <td>2016</td>\n",
       "      <td>50 to 59 years</td>\n",
       "      <td>Male</td>\n",
       "      <td>Number</td>\n",
       "      <td>29</td>\n",
       "    </tr>\n",
       "    <tr>\n",
       "      <th>12157</th>\n",
       "      <td>Stimulants</td>\n",
       "      <td>Hospitalizations</td>\n",
       "      <td>Age group by sex</td>\n",
       "      <td>Intentional stimulant-related poisoning hospit...</td>\n",
       "      <td>Canada</td>\n",
       "      <td>1</td>\n",
       "      <td>By year</td>\n",
       "      <td>2016</td>\n",
       "      <td>60 years or more</td>\n",
       "      <td>Female</td>\n",
       "      <td>Number</td>\n",
       "      <td>8</td>\n",
       "    </tr>\n",
       "    <tr>\n",
       "      <th>12158</th>\n",
       "      <td>Stimulants</td>\n",
       "      <td>Hospitalizations</td>\n",
       "      <td>Age group by sex</td>\n",
       "      <td>Intentional stimulant-related poisoning hospit...</td>\n",
       "      <td>Canada</td>\n",
       "      <td>1</td>\n",
       "      <td>By year</td>\n",
       "      <td>2016</td>\n",
       "      <td>60 years or more</td>\n",
       "      <td>Male</td>\n",
       "      <td>Number</td>\n",
       "      <td>8</td>\n",
       "    </tr>\n",
       "  </tbody>\n",
       "</table>\n",
       "</div>"
      ],
      "text/plain": [
       "        Substance            Source  Specific_Measure  \\\n",
       "12154  Stimulants  Hospitalizations  Age group by sex   \n",
       "12155  Stimulants  Hospitalizations  Age group by sex   \n",
       "12156  Stimulants  Hospitalizations  Age group by sex   \n",
       "12157  Stimulants  Hospitalizations  Age group by sex   \n",
       "12158  Stimulants  Hospitalizations  Age group by sex   \n",
       "\n",
       "                                              Type_Event  Region  PRUID  \\\n",
       "12154  Intentional stimulant-related poisoning hospit...  Canada      1   \n",
       "12155  Intentional stimulant-related poisoning hospit...  Canada      1   \n",
       "12156  Intentional stimulant-related poisoning hospit...  Canada      1   \n",
       "12157  Intentional stimulant-related poisoning hospit...  Canada      1   \n",
       "12158  Intentional stimulant-related poisoning hospit...  Canada      1   \n",
       "\n",
       "      Time_Period Year_Quarter        Aggregator Disaggregator    Unit Value  \n",
       "12154     By year         2016    40 to 49 years          Male  Number    41  \n",
       "12155     By year         2016    50 to 59 years        Female  Number    31  \n",
       "12156     By year         2016    50 to 59 years          Male  Number    29  \n",
       "12157     By year         2016  60 years or more        Female  Number     8  \n",
       "12158     By year         2016  60 years or more          Male  Number     8  "
      ]
     },
     "execution_count": 6,
     "metadata": {},
     "output_type": "execute_result"
    }
   ],
   "source": [
    "df.tail()"
   ]
  },
  {
   "cell_type": "code",
   "execution_count": 7,
   "id": "fc1f7bd0",
   "metadata": {},
   "outputs": [
    {
     "data": {
      "text/html": [
       "<div>\n",
       "<style scoped>\n",
       "    .dataframe tbody tr th:only-of-type {\n",
       "        vertical-align: middle;\n",
       "    }\n",
       "\n",
       "    .dataframe tbody tr th {\n",
       "        vertical-align: top;\n",
       "    }\n",
       "\n",
       "    .dataframe thead th {\n",
       "        text-align: right;\n",
       "    }\n",
       "</style>\n",
       "<table border=\"1\" class=\"dataframe\">\n",
       "  <thead>\n",
       "    <tr style=\"text-align: right;\">\n",
       "      <th></th>\n",
       "      <th>Province name</th>\n",
       "      <th>Population (2021 Census)</th>\n",
       "      <th>Land area (km^2)</th>\n",
       "      <th>Population per km^2</th>\n",
       "      <th>GDP (million CAD, 2019)</th>\n",
       "      <th>GDP per capita (CAD, 2019)</th>\n",
       "      <th>Market income per capita (CAD, 2019)</th>\n",
       "    </tr>\n",
       "  </thead>\n",
       "  <tbody>\n",
       "    <tr>\n",
       "      <th>0</th>\n",
       "      <td>NaN</td>\n",
       "      <td>NaN</td>\n",
       "      <td>NaN</td>\n",
       "      <td>NaN</td>\n",
       "      <td>NaN</td>\n",
       "      <td>NaN</td>\n",
       "      <td>NaN</td>\n",
       "    </tr>\n",
       "    <tr>\n",
       "      <th>1</th>\n",
       "      <td>Ontario</td>\n",
       "      <td>14,223,942</td>\n",
       "      <td>908,699.33</td>\n",
       "      <td>15.653079</td>\n",
       "      <td>891,811</td>\n",
       "      <td>54,149</td>\n",
       "      <td>36,298</td>\n",
       "    </tr>\n",
       "    <tr>\n",
       "      <th>2</th>\n",
       "      <td>Quebec</td>\n",
       "      <td>8,501,833</td>\n",
       "      <td>1,356,625.27</td>\n",
       "      <td>6.266899</td>\n",
       "      <td>460,357</td>\n",
       "      <td>54,149</td>\n",
       "      <td>32,351</td>\n",
       "    </tr>\n",
       "    <tr>\n",
       "      <th>3</th>\n",
       "      <td>British Columbia</td>\n",
       "      <td>5,000,879</td>\n",
       "      <td>922,503.01</td>\n",
       "      <td>5.420989</td>\n",
       "      <td>309,059</td>\n",
       "      <td>60,707</td>\n",
       "      <td>36,723</td>\n",
       "    </tr>\n",
       "    <tr>\n",
       "      <th>4</th>\n",
       "      <td>Alberta</td>\n",
       "      <td>4,262,635</td>\n",
       "      <td>640,330.46</td>\n",
       "      <td>6.656930</td>\n",
       "      <td>352,884</td>\n",
       "      <td>80,905</td>\n",
       "      <td>40,094</td>\n",
       "    </tr>\n",
       "  </tbody>\n",
       "</table>\n",
       "</div>"
      ],
      "text/plain": [
       "      Province name Population (2021 Census) Land area (km^2)  \\\n",
       "0               NaN                      NaN              NaN   \n",
       "1           Ontario               14,223,942       908,699.33   \n",
       "2            Quebec                8,501,833     1,356,625.27   \n",
       "3  British Columbia                5,000,879       922,503.01   \n",
       "4           Alberta                4,262,635       640,330.46   \n",
       "\n",
       "   Population per km^2 GDP (million CAD, 2019) GDP per capita (CAD, 2019)  \\\n",
       "0                  NaN                     NaN                        NaN   \n",
       "1            15.653079                 891,811                     54,149   \n",
       "2             6.266899                 460,357                     54,149   \n",
       "3             5.420989                 309,059                     60,707   \n",
       "4             6.656930                 352,884                     80,905   \n",
       "\n",
       "  Market income per capita (CAD, 2019)  \n",
       "0                                  NaN  \n",
       "1                               36,298  \n",
       "2                               32,351  \n",
       "3                               36,723  \n",
       "4                               40,094  "
      ]
     },
     "execution_count": 7,
     "metadata": {},
     "output_type": "execute_result"
    }
   ],
   "source": [
    "# here are some provincial and federal figures that we will work with later\n",
    "canstats.head()"
   ]
  },
  {
   "cell_type": "code",
   "execution_count": 8,
   "id": "cd2281b8",
   "metadata": {},
   "outputs": [
    {
     "data": {
      "text/html": [
       "<div>\n",
       "<style scoped>\n",
       "    .dataframe tbody tr th:only-of-type {\n",
       "        vertical-align: middle;\n",
       "    }\n",
       "\n",
       "    .dataframe tbody tr th {\n",
       "        vertical-align: top;\n",
       "    }\n",
       "\n",
       "    .dataframe thead th {\n",
       "        text-align: right;\n",
       "    }\n",
       "</style>\n",
       "<table border=\"1\" class=\"dataframe\">\n",
       "  <thead>\n",
       "    <tr style=\"text-align: right;\">\n",
       "      <th></th>\n",
       "      <th>Province name</th>\n",
       "      <th>Population (2021 Census)</th>\n",
       "      <th>Land area (km^2)</th>\n",
       "      <th>Population per km^2</th>\n",
       "      <th>GDP (million CAD, 2019)</th>\n",
       "      <th>GDP per capita (CAD, 2019)</th>\n",
       "      <th>Market income per capita (CAD, 2019)</th>\n",
       "    </tr>\n",
       "  </thead>\n",
       "  <tbody>\n",
       "    <tr>\n",
       "      <th>9</th>\n",
       "      <td>Newfoundland and Labrador</td>\n",
       "      <td>510,550</td>\n",
       "      <td>370,514.08</td>\n",
       "      <td>1.377950</td>\n",
       "      <td>35,349</td>\n",
       "      <td>71,527</td>\n",
       "      <td>30,977</td>\n",
       "    </tr>\n",
       "    <tr>\n",
       "      <th>10</th>\n",
       "      <td>Prince Edward Island</td>\n",
       "      <td>154,331</td>\n",
       "      <td>5,686.03</td>\n",
       "      <td>27.142136</td>\n",
       "      <td>7,523</td>\n",
       "      <td>48,039</td>\n",
       "      <td>28,414</td>\n",
       "    </tr>\n",
       "    <tr>\n",
       "      <th>11</th>\n",
       "      <td>Northwest Territories</td>\n",
       "      <td>41,070</td>\n",
       "      <td>1,143,793.86</td>\n",
       "      <td>0.035907</td>\n",
       "      <td>4,542</td>\n",
       "      <td>100,871</td>\n",
       "      <td>43,125</td>\n",
       "    </tr>\n",
       "    <tr>\n",
       "      <th>12</th>\n",
       "      <td>Yukon</td>\n",
       "      <td>40,232</td>\n",
       "      <td>474,712.68</td>\n",
       "      <td>0.084750</td>\n",
       "      <td>3,157</td>\n",
       "      <td>76,114</td>\n",
       "      <td>42,715</td>\n",
       "    </tr>\n",
       "    <tr>\n",
       "      <th>13</th>\n",
       "      <td>Nunavut</td>\n",
       "      <td>36,858</td>\n",
       "      <td>1,877,778.53</td>\n",
       "      <td>0.019629</td>\n",
       "      <td>3,689</td>\n",
       "      <td>95,535</td>\n",
       "      <td>27,251</td>\n",
       "    </tr>\n",
       "  </tbody>\n",
       "</table>\n",
       "</div>"
      ],
      "text/plain": [
       "                Province name Population (2021 Census) Land area (km^2)  \\\n",
       "9   Newfoundland and Labrador                  510,550       370,514.08   \n",
       "10       Prince Edward Island                  154,331         5,686.03   \n",
       "11      Northwest Territories                   41,070     1,143,793.86   \n",
       "12                      Yukon                   40,232       474,712.68   \n",
       "13                    Nunavut                   36,858     1,877,778.53   \n",
       "\n",
       "    Population per km^2 GDP (million CAD, 2019) GDP per capita (CAD, 2019)  \\\n",
       "9              1.377950                  35,349                     71,527   \n",
       "10            27.142136                   7,523                     48,039   \n",
       "11             0.035907                   4,542                    100,871   \n",
       "12             0.084750                   3,157                     76,114   \n",
       "13             0.019629                   3,689                     95,535   \n",
       "\n",
       "   Market income per capita (CAD, 2019)  \n",
       "9                                30,977  \n",
       "10                               28,414  \n",
       "11                               43,125  \n",
       "12                               42,715  \n",
       "13                               27,251  "
      ]
     },
     "execution_count": 8,
     "metadata": {},
     "output_type": "execute_result"
    }
   ],
   "source": [
    "canstats.tail()"
   ]
  },
  {
   "cell_type": "code",
   "execution_count": 9,
   "id": "abacaa07",
   "metadata": {},
   "outputs": [
    {
     "data": {
      "text/plain": [
       "Substance           object\n",
       "Source              object\n",
       "Specific_Measure    object\n",
       "Type_Event          object\n",
       "Region              object\n",
       "PRUID                int64\n",
       "Time_Period         object\n",
       "Year_Quarter        object\n",
       "Aggregator          object\n",
       "Disaggregator       object\n",
       "Unit                object\n",
       "Value               object\n",
       "dtype: object"
      ]
     },
     "execution_count": 9,
     "metadata": {},
     "output_type": "execute_result"
    }
   ],
   "source": [
    "# let's check the data types of each column\n",
    "# the PRUID is Stats Canada's numerical classifier for a province or territory name, where Canada has a PRUID of 1\n",
    "df.dtypes"
   ]
  },
  {
   "cell_type": "code",
   "execution_count": 10,
   "id": "66cfa4d5",
   "metadata": {},
   "outputs": [
    {
     "data": {
      "text/plain": [
       "(12159, 12)"
      ]
     },
     "execution_count": 10,
     "metadata": {},
     "output_type": "execute_result"
    }
   ],
   "source": [
    "# our data has 12 classes and 12158 rows\n",
    "df.shape"
   ]
  },
  {
   "cell_type": "markdown",
   "id": "856c2f4b",
   "metadata": {},
   "source": [
    "## Region"
   ]
  },
  {
   "cell_type": "code",
   "execution_count": 11,
   "id": "37a35ce5",
   "metadata": {},
   "outputs": [
    {
     "data": {
      "text/plain": [
       "Canada                               1768\n",
       "Saskatchewan                         1069\n",
       "Ontario                              1069\n",
       "Nova Scotia                          1063\n",
       "British Columbia                     1015\n",
       "Alberta                               845\n",
       "New Brunswick                         841\n",
       "Manitoba                              807\n",
       "Quebec                                710\n",
       "Newfoundland and Labrador             702\n",
       "Prince Edward Island                  532\n",
       "Northwest Territories                 372\n",
       "Territories                           268\n",
       "Nunavut                               256\n",
       "Yukon                                 241\n",
       "Winnipeg Manitoba                     165\n",
       "Yellowknife Northwest Territories     165\n",
       "Northern and Rural Manitoba           162\n",
       "Whitehorse Yukon                      109\n",
       "Name: Region, dtype: int64"
      ]
     },
     "execution_count": 11,
     "metadata": {},
     "output_type": "execute_result"
    }
   ],
   "source": [
    "# checking the regions that are listed, we can see some duplication\n",
    "df.Region.value_counts()"
   ]
  },
  {
   "cell_type": "code",
   "execution_count": 12,
   "id": "47e78b31",
   "metadata": {},
   "outputs": [
    {
     "data": {
      "text/plain": [
       "Canada                       1768\n",
       "Saskatchewan                 1069\n",
       "Ontario                      1069\n",
       "Nova Scotia                  1063\n",
       "British Columbia             1015\n",
       "Alberta                       845\n",
       "New Brunswick                 841\n",
       "Manitoba                      807\n",
       "Quebec                        710\n",
       "Newfoundland and Labrador     702\n",
       "Prince Edward Island          532\n",
       "Northwest Territories         372\n",
       "Nunavut                       256\n",
       "Yukon                         241\n",
       "Name: Region, dtype: int64"
      ]
     },
     "execution_count": 12,
     "metadata": {},
     "output_type": "execute_result"
    }
   ],
   "source": [
    "# we will remove 'Territories', 'Winnipeg Manitoba', 'Yellowknife Northwest Territories', 'Northern and Rural Manitoba', and 'Whitehorse Yukon'\n",
    "removals = ['Territories', 'Winnipeg Manitoba',\n",
    "            'Yellowknife Northwest Territories',\n",
    "            'Northern and Rural Manitoba',\n",
    "           'Whitehorse Yukon']\n",
    "\n",
    "for i in removals:\n",
    "    df = df[df.Region != i]\n",
    "    \n",
    "df.Region.value_counts()"
   ]
  },
  {
   "cell_type": "markdown",
   "id": "d922e2a9",
   "metadata": {},
   "source": [
    "## Dates"
   ]
  },
  {
   "cell_type": "code",
   "execution_count": 13,
   "id": "89300e6a",
   "metadata": {},
   "outputs": [
    {
     "data": {
      "text/plain": [
       "2021                 2062\n",
       "2020                 2038\n",
       "2019                 1779\n",
       "2018                 1649\n",
       "2017                  780\n",
       "2016                  734\n",
       "2020 Q3               104\n",
       "2020 Q1               104\n",
       "2020 Q2               104\n",
       "2020 Q4               104\n",
       "2021 Q1               104\n",
       "2019 Q4               102\n",
       "2019 Q3               102\n",
       "2019 Q2               102\n",
       "2021 Q2               102\n",
       "2019 Q1               102\n",
       "2018 Q4               100\n",
       "2018 Q2               100\n",
       "2018 Q3               100\n",
       "2021 Q3                99\n",
       "2021 Q4                99\n",
       "2018 Q1                92\n",
       "2017 Q4                82\n",
       "2017 Q3                82\n",
       "2017 Q2                82\n",
       "2017 Q1                81\n",
       "2016 Q4                72\n",
       "2016 Q3                72\n",
       "2016 Q2                72\n",
       "2016 Q1                72\n",
       "2018 (Apr to Dec)      13\n",
       "Name: Year_Quarter, dtype: int64"
      ]
     },
     "execution_count": 13,
     "metadata": {},
     "output_type": "execute_result"
    }
   ],
   "source": [
    "# let's check how the dates are organized\n",
    "df.Year_Quarter.value_counts()"
   ]
  },
  {
   "cell_type": "code",
   "execution_count": 14,
   "id": "95681ba3",
   "metadata": {},
   "outputs": [
    {
     "data": {
      "text/plain": [
       "2021       2062\n",
       "2020       2038\n",
       "2019       1779\n",
       "2018       1649\n",
       "2017        780\n",
       "2016        734\n",
       "2020 Q3     104\n",
       "2020 Q1     104\n",
       "2020 Q2     104\n",
       "2020 Q4     104\n",
       "2021 Q1     104\n",
       "2019 Q4     102\n",
       "2019 Q3     102\n",
       "2019 Q2     102\n",
       "2021 Q2     102\n",
       "2019 Q1     102\n",
       "2018 Q4     100\n",
       "2018 Q2     100\n",
       "2018 Q3     100\n",
       "2021 Q3      99\n",
       "2021 Q4      99\n",
       "2018 Q1      92\n",
       "2017 Q4      82\n",
       "2017 Q3      82\n",
       "2017 Q2      82\n",
       "2017 Q1      81\n",
       "2016 Q4      72\n",
       "2016 Q3      72\n",
       "2016 Q2      72\n",
       "2016 Q1      72\n",
       "Name: Year_Quarter, dtype: int64"
      ]
     },
     "execution_count": 14,
     "metadata": {},
     "output_type": "execute_result"
    }
   ],
   "source": [
    "# since we have a measure for '2018 Q1', we'll remove '2018 (Apr to Dec)'\n",
    "df = df[df.Year_Quarter != '2018 (Apr to Dec)']\n",
    "    \n",
    "df.Year_Quarter.value_counts()"
   ]
  },
  {
   "cell_type": "code",
   "execution_count": null,
   "id": "d84380f1",
   "metadata": {},
   "outputs": [],
   "source": []
  },
  {
   "cell_type": "markdown",
   "id": "45dd7f9e",
   "metadata": {},
   "source": [
    "## Substance"
   ]
  },
  {
   "cell_type": "code",
   "execution_count": 15,
   "id": "9aaf91f0",
   "metadata": {},
   "outputs": [
    {
     "data": {
      "text/plain": [
       "Opioids       7580\n",
       "Stimulants    3697\n",
       "Name: Substance, dtype: int64"
      ]
     },
     "execution_count": 15,
     "metadata": {},
     "output_type": "execute_result"
    }
   ],
   "source": [
    "# we can see that the overdoses are arranged by stimulants and opioids, with more reported data for opioids\n",
    "df.Substance.value_counts()"
   ]
  },
  {
   "cell_type": "code",
   "execution_count": 37,
   "id": "b9ac2498",
   "metadata": {},
   "outputs": [
    {
     "data": {
      "text/plain": [
       "Substance           object\n",
       "Source              object\n",
       "Specific_Measure    object\n",
       "Type_Event          object\n",
       "Region              object\n",
       "PRUID                int64\n",
       "Time_Period         object\n",
       "Year_Quarter        object\n",
       "Aggregator          object\n",
       "Disaggregator       object\n",
       "Unit                object\n",
       "Value               object\n",
       "dtype: object"
      ]
     },
     "execution_count": 37,
     "metadata": {},
     "output_type": "execute_result"
    }
   ],
   "source": [
    "df.dtypes"
   ]
  },
  {
   "cell_type": "code",
   "execution_count": 39,
   "id": "8b5b0c8d",
   "metadata": {},
   "outputs": [
    {
     "data": {
      "text/html": [
       "<div>\n",
       "<style scoped>\n",
       "    .dataframe tbody tr th:only-of-type {\n",
       "        vertical-align: middle;\n",
       "    }\n",
       "\n",
       "    .dataframe tbody tr th {\n",
       "        vertical-align: top;\n",
       "    }\n",
       "\n",
       "    .dataframe thead th {\n",
       "        text-align: right;\n",
       "    }\n",
       "</style>\n",
       "<table border=\"1\" class=\"dataframe\">\n",
       "  <thead>\n",
       "    <tr style=\"text-align: right;\">\n",
       "      <th></th>\n",
       "      <th>Substance</th>\n",
       "      <th>Source</th>\n",
       "      <th>Specific_Measure</th>\n",
       "      <th>Type_Event</th>\n",
       "      <th>Region</th>\n",
       "      <th>PRUID</th>\n",
       "      <th>Time_Period</th>\n",
       "      <th>Year_Quarter</th>\n",
       "      <th>Aggregator</th>\n",
       "      <th>Disaggregator</th>\n",
       "      <th>Unit</th>\n",
       "      <th>Value</th>\n",
       "    </tr>\n",
       "  </thead>\n",
       "  <tbody>\n",
       "    <tr>\n",
       "      <th>1</th>\n",
       "      <td>Opioids</td>\n",
       "      <td>Deaths</td>\n",
       "      <td>Overall numbers</td>\n",
       "      <td>Total apparent opioid toxicity deaths</td>\n",
       "      <td>Canada</td>\n",
       "      <td>1</td>\n",
       "      <td>By year</td>\n",
       "      <td>2016</td>\n",
       "      <td>NaN</td>\n",
       "      <td>NaN</td>\n",
       "      <td>Number</td>\n",
       "      <td>2829</td>\n",
       "    </tr>\n",
       "    <tr>\n",
       "      <th>4</th>\n",
       "      <td>Opioids</td>\n",
       "      <td>Deaths</td>\n",
       "      <td>Overall numbers</td>\n",
       "      <td>Total apparent opioid toxicity deaths</td>\n",
       "      <td>Canada</td>\n",
       "      <td>1</td>\n",
       "      <td>By year</td>\n",
       "      <td>2017</td>\n",
       "      <td>NaN</td>\n",
       "      <td>NaN</td>\n",
       "      <td>Number</td>\n",
       "      <td>3921</td>\n",
       "    </tr>\n",
       "    <tr>\n",
       "      <th>7</th>\n",
       "      <td>Opioids</td>\n",
       "      <td>Deaths</td>\n",
       "      <td>Overall numbers</td>\n",
       "      <td>Total apparent opioid toxicity deaths</td>\n",
       "      <td>Canada</td>\n",
       "      <td>1</td>\n",
       "      <td>By year</td>\n",
       "      <td>2018</td>\n",
       "      <td>NaN</td>\n",
       "      <td>NaN</td>\n",
       "      <td>Number</td>\n",
       "      <td>4406</td>\n",
       "    </tr>\n",
       "    <tr>\n",
       "      <th>10</th>\n",
       "      <td>Opioids</td>\n",
       "      <td>Deaths</td>\n",
       "      <td>Overall numbers</td>\n",
       "      <td>Total apparent opioid toxicity deaths</td>\n",
       "      <td>Canada</td>\n",
       "      <td>1</td>\n",
       "      <td>By year</td>\n",
       "      <td>2019</td>\n",
       "      <td>NaN</td>\n",
       "      <td>NaN</td>\n",
       "      <td>Number</td>\n",
       "      <td>3698</td>\n",
       "    </tr>\n",
       "    <tr>\n",
       "      <th>13</th>\n",
       "      <td>Opioids</td>\n",
       "      <td>Deaths</td>\n",
       "      <td>Overall numbers</td>\n",
       "      <td>Total apparent opioid toxicity deaths</td>\n",
       "      <td>Canada</td>\n",
       "      <td>1</td>\n",
       "      <td>By year</td>\n",
       "      <td>2020</td>\n",
       "      <td>NaN</td>\n",
       "      <td>NaN</td>\n",
       "      <td>Number</td>\n",
       "      <td>6638</td>\n",
       "    </tr>\n",
       "  </tbody>\n",
       "</table>\n",
       "</div>"
      ],
      "text/plain": [
       "   Substance  Source Specific_Measure                             Type_Event  \\\n",
       "1    Opioids  Deaths  Overall numbers  Total apparent opioid toxicity deaths   \n",
       "4    Opioids  Deaths  Overall numbers  Total apparent opioid toxicity deaths   \n",
       "7    Opioids  Deaths  Overall numbers  Total apparent opioid toxicity deaths   \n",
       "10   Opioids  Deaths  Overall numbers  Total apparent opioid toxicity deaths   \n",
       "13   Opioids  Deaths  Overall numbers  Total apparent opioid toxicity deaths   \n",
       "\n",
       "    Region  PRUID Time_Period Year_Quarter Aggregator Disaggregator    Unit  \\\n",
       "1   Canada      1     By year         2016        NaN           NaN  Number   \n",
       "4   Canada      1     By year         2017        NaN           NaN  Number   \n",
       "7   Canada      1     By year         2018        NaN           NaN  Number   \n",
       "10  Canada      1     By year         2019        NaN           NaN  Number   \n",
       "13  Canada      1     By year         2020        NaN           NaN  Number   \n",
       "\n",
       "   Value  \n",
       "1   2829  \n",
       "4   3921  \n",
       "7   4406  \n",
       "10  3698  \n",
       "13  6638  "
      ]
     },
     "execution_count": 39,
     "metadata": {},
     "output_type": "execute_result"
    }
   ],
   "source": [
    "Canada_deaths_data = df[df.Substance == 'Opioids']\n",
    "Canada_deaths_data = df[df.Source == 'Deaths']\n",
    "Canada_deaths_data = df[df.Region == 'Canada']\n",
    "Canada_deaths_data = df[df.Time_Period == \"By year\"]\n",
    "Canada_deaths_data = df[df.Unit == \"Number\"]\n",
    "\n",
    "Canada_deaths_data.head()"
   ]
  },
  {
   "cell_type": "code",
   "execution_count": 42,
   "id": "b15eef61",
   "metadata": {},
   "outputs": [
    {
     "ename": "ValueError",
     "evalue": "Could not interpret value `Year` for parameter `x`",
     "output_type": "error",
     "traceback": [
      "\u001b[0;31m---------------------------------------------------------------------------\u001b[0m",
      "\u001b[0;31mValueError\u001b[0m                                Traceback (most recent call last)",
      "Input \u001b[0;32mIn [42]\u001b[0m, in \u001b[0;36m<cell line: 3>\u001b[0;34m()\u001b[0m\n\u001b[1;32m      1\u001b[0m plt\u001b[38;5;241m.\u001b[39mfigure(figsize\u001b[38;5;241m=\u001b[39m(\u001b[38;5;241m20\u001b[39m, \u001b[38;5;241m10\u001b[39m))\n\u001b[1;32m      2\u001b[0m plt\u001b[38;5;241m.\u001b[39mtitle(\u001b[38;5;124m\"\u001b[39m\u001b[38;5;124mTotal Deaths from Opioids in Canada since 2016, by Year\u001b[39m\u001b[38;5;124m\"\u001b[39m)\n\u001b[0;32m----> 3\u001b[0m \u001b[43msns\u001b[49m\u001b[38;5;241;43m.\u001b[39;49m\u001b[43mlineplot\u001b[49m\u001b[43m(\u001b[49m\u001b[43mCanada_deaths_data\u001b[49m\u001b[38;5;241;43m.\u001b[39;49m\u001b[43mhead\u001b[49m\u001b[43m,\u001b[49m\u001b[43m \u001b[49m\u001b[43mx\u001b[49m\u001b[38;5;241;43m=\u001b[39;49m\u001b[38;5;124;43m'\u001b[39;49m\u001b[38;5;124;43mYear\u001b[39;49m\u001b[38;5;124;43m'\u001b[39;49m\u001b[43m,\u001b[49m\u001b[43m \u001b[49m\u001b[43my\u001b[49m\u001b[38;5;241;43m=\u001b[39;49m\u001b[38;5;124;43m'\u001b[39;49m\u001b[38;5;124;43mOpioid Deaths\u001b[39;49m\u001b[38;5;124;43m'\u001b[39;49m\u001b[43m,\u001b[49m\u001b[43m \u001b[49m\u001b[43mlabel\u001b[49m\u001b[38;5;241;43m=\u001b[39;49m\u001b[38;5;124;43m'\u001b[39;49m\u001b[38;5;124;43mTotal Deaths from Opioids in Canada\u001b[39;49m\u001b[38;5;124;43m'\u001b[39;49m\u001b[43m)\u001b[49m\n\u001b[1;32m      4\u001b[0m plt\u001b[38;5;241m.\u001b[39mxlabel(\u001b[38;5;124m'\u001b[39m\u001b[38;5;124mYear_Quarter\u001b[39m\u001b[38;5;124m'\u001b[39m)\n",
      "File \u001b[0;32m~/miniconda3/lib/python3.8/site-packages/seaborn/relational.py:618\u001b[0m, in \u001b[0;36mlineplot\u001b[0;34m(data, x, y, hue, size, style, units, palette, hue_order, hue_norm, sizes, size_order, size_norm, dashes, markers, style_order, estimator, errorbar, n_boot, seed, orient, sort, err_style, err_kws, legend, ci, ax, **kwargs)\u001b[0m\n\u001b[1;32m    615\u001b[0m errorbar \u001b[38;5;241m=\u001b[39m _deprecate_ci(errorbar, ci)\n\u001b[1;32m    617\u001b[0m variables \u001b[38;5;241m=\u001b[39m _LinePlotter\u001b[38;5;241m.\u001b[39mget_semantics(\u001b[38;5;28mlocals\u001b[39m())\n\u001b[0;32m--> 618\u001b[0m p \u001b[38;5;241m=\u001b[39m \u001b[43m_LinePlotter\u001b[49m\u001b[43m(\u001b[49m\n\u001b[1;32m    619\u001b[0m \u001b[43m    \u001b[49m\u001b[43mdata\u001b[49m\u001b[38;5;241;43m=\u001b[39;49m\u001b[43mdata\u001b[49m\u001b[43m,\u001b[49m\u001b[43m \u001b[49m\u001b[43mvariables\u001b[49m\u001b[38;5;241;43m=\u001b[39;49m\u001b[43mvariables\u001b[49m\u001b[43m,\u001b[49m\n\u001b[1;32m    620\u001b[0m \u001b[43m    \u001b[49m\u001b[43mestimator\u001b[49m\u001b[38;5;241;43m=\u001b[39;49m\u001b[43mestimator\u001b[49m\u001b[43m,\u001b[49m\u001b[43m \u001b[49m\u001b[43mn_boot\u001b[49m\u001b[38;5;241;43m=\u001b[39;49m\u001b[43mn_boot\u001b[49m\u001b[43m,\u001b[49m\u001b[43m \u001b[49m\u001b[43mseed\u001b[49m\u001b[38;5;241;43m=\u001b[39;49m\u001b[43mseed\u001b[49m\u001b[43m,\u001b[49m\u001b[43m \u001b[49m\u001b[43merrorbar\u001b[49m\u001b[38;5;241;43m=\u001b[39;49m\u001b[43merrorbar\u001b[49m\u001b[43m,\u001b[49m\n\u001b[1;32m    621\u001b[0m \u001b[43m    \u001b[49m\u001b[43msort\u001b[49m\u001b[38;5;241;43m=\u001b[39;49m\u001b[43msort\u001b[49m\u001b[43m,\u001b[49m\u001b[43m \u001b[49m\u001b[43morient\u001b[49m\u001b[38;5;241;43m=\u001b[39;49m\u001b[43morient\u001b[49m\u001b[43m,\u001b[49m\u001b[43m \u001b[49m\u001b[43merr_style\u001b[49m\u001b[38;5;241;43m=\u001b[39;49m\u001b[43merr_style\u001b[49m\u001b[43m,\u001b[49m\u001b[43m \u001b[49m\u001b[43merr_kws\u001b[49m\u001b[38;5;241;43m=\u001b[39;49m\u001b[43merr_kws\u001b[49m\u001b[43m,\u001b[49m\n\u001b[1;32m    622\u001b[0m \u001b[43m    \u001b[49m\u001b[43mlegend\u001b[49m\u001b[38;5;241;43m=\u001b[39;49m\u001b[43mlegend\u001b[49m\u001b[43m,\u001b[49m\n\u001b[1;32m    623\u001b[0m \u001b[43m\u001b[49m\u001b[43m)\u001b[49m\n\u001b[1;32m    625\u001b[0m p\u001b[38;5;241m.\u001b[39mmap_hue(palette\u001b[38;5;241m=\u001b[39mpalette, order\u001b[38;5;241m=\u001b[39mhue_order, norm\u001b[38;5;241m=\u001b[39mhue_norm)\n\u001b[1;32m    626\u001b[0m p\u001b[38;5;241m.\u001b[39mmap_size(sizes\u001b[38;5;241m=\u001b[39msizes, order\u001b[38;5;241m=\u001b[39msize_order, norm\u001b[38;5;241m=\u001b[39msize_norm)\n",
      "File \u001b[0;32m~/miniconda3/lib/python3.8/site-packages/seaborn/relational.py:365\u001b[0m, in \u001b[0;36m_LinePlotter.__init__\u001b[0;34m(self, data, variables, estimator, n_boot, seed, errorbar, sort, orient, err_style, err_kws, legend)\u001b[0m\n\u001b[1;32m    351\u001b[0m \u001b[38;5;28;01mdef\u001b[39;00m \u001b[38;5;21m__init__\u001b[39m(\n\u001b[1;32m    352\u001b[0m     \u001b[38;5;28mself\u001b[39m, \u001b[38;5;241m*\u001b[39m,\n\u001b[1;32m    353\u001b[0m     data\u001b[38;5;241m=\u001b[39m\u001b[38;5;28;01mNone\u001b[39;00m, variables\u001b[38;5;241m=\u001b[39m{},\n\u001b[0;32m   (...)\u001b[0m\n\u001b[1;32m    359\u001b[0m     \u001b[38;5;66;03m# the kind of plot to draw, but for the time being we need to set\u001b[39;00m\n\u001b[1;32m    360\u001b[0m     \u001b[38;5;66;03m# this information so the SizeMapping can use it\u001b[39;00m\n\u001b[1;32m    361\u001b[0m     \u001b[38;5;28mself\u001b[39m\u001b[38;5;241m.\u001b[39m_default_size_range \u001b[38;5;241m=\u001b[39m (\n\u001b[1;32m    362\u001b[0m         np\u001b[38;5;241m.\u001b[39mr_[\u001b[38;5;241m.5\u001b[39m, \u001b[38;5;241m2\u001b[39m] \u001b[38;5;241m*\u001b[39m mpl\u001b[38;5;241m.\u001b[39mrcParams[\u001b[38;5;124m\"\u001b[39m\u001b[38;5;124mlines.linewidth\u001b[39m\u001b[38;5;124m\"\u001b[39m]\n\u001b[1;32m    363\u001b[0m     )\n\u001b[0;32m--> 365\u001b[0m     \u001b[38;5;28;43msuper\u001b[39;49m\u001b[43m(\u001b[49m\u001b[43m)\u001b[49m\u001b[38;5;241;43m.\u001b[39;49m\u001b[38;5;21;43m__init__\u001b[39;49m\u001b[43m(\u001b[49m\u001b[43mdata\u001b[49m\u001b[38;5;241;43m=\u001b[39;49m\u001b[43mdata\u001b[49m\u001b[43m,\u001b[49m\u001b[43m \u001b[49m\u001b[43mvariables\u001b[49m\u001b[38;5;241;43m=\u001b[39;49m\u001b[43mvariables\u001b[49m\u001b[43m)\u001b[49m\n\u001b[1;32m    367\u001b[0m     \u001b[38;5;28mself\u001b[39m\u001b[38;5;241m.\u001b[39mestimator \u001b[38;5;241m=\u001b[39m estimator\n\u001b[1;32m    368\u001b[0m     \u001b[38;5;28mself\u001b[39m\u001b[38;5;241m.\u001b[39merrorbar \u001b[38;5;241m=\u001b[39m errorbar\n",
      "File \u001b[0;32m~/miniconda3/lib/python3.8/site-packages/seaborn/_oldcore.py:640\u001b[0m, in \u001b[0;36mVectorPlotter.__init__\u001b[0;34m(self, data, variables)\u001b[0m\n\u001b[1;32m    635\u001b[0m \u001b[38;5;66;03m# var_ordered is relevant only for categorical axis variables, and may\u001b[39;00m\n\u001b[1;32m    636\u001b[0m \u001b[38;5;66;03m# be better handled by an internal axis information object that tracks\u001b[39;00m\n\u001b[1;32m    637\u001b[0m \u001b[38;5;66;03m# such information and is set up by the scale_* methods. The analogous\u001b[39;00m\n\u001b[1;32m    638\u001b[0m \u001b[38;5;66;03m# information for numeric axes would be information about log scales.\u001b[39;00m\n\u001b[1;32m    639\u001b[0m \u001b[38;5;28mself\u001b[39m\u001b[38;5;241m.\u001b[39m_var_ordered \u001b[38;5;241m=\u001b[39m {\u001b[38;5;124m\"\u001b[39m\u001b[38;5;124mx\u001b[39m\u001b[38;5;124m\"\u001b[39m: \u001b[38;5;28;01mFalse\u001b[39;00m, \u001b[38;5;124m\"\u001b[39m\u001b[38;5;124my\u001b[39m\u001b[38;5;124m\"\u001b[39m: \u001b[38;5;28;01mFalse\u001b[39;00m}  \u001b[38;5;66;03m# alt., used DefaultDict\u001b[39;00m\n\u001b[0;32m--> 640\u001b[0m \u001b[38;5;28;43mself\u001b[39;49m\u001b[38;5;241;43m.\u001b[39;49m\u001b[43massign_variables\u001b[49m\u001b[43m(\u001b[49m\u001b[43mdata\u001b[49m\u001b[43m,\u001b[49m\u001b[43m \u001b[49m\u001b[43mvariables\u001b[49m\u001b[43m)\u001b[49m\n\u001b[1;32m    642\u001b[0m \u001b[38;5;28;01mfor\u001b[39;00m var, \u001b[38;5;28mcls\u001b[39m \u001b[38;5;129;01min\u001b[39;00m \u001b[38;5;28mself\u001b[39m\u001b[38;5;241m.\u001b[39m_semantic_mappings\u001b[38;5;241m.\u001b[39mitems():\n\u001b[1;32m    643\u001b[0m \n\u001b[1;32m    644\u001b[0m     \u001b[38;5;66;03m# Create the mapping function\u001b[39;00m\n\u001b[1;32m    645\u001b[0m     map_func \u001b[38;5;241m=\u001b[39m partial(\u001b[38;5;28mcls\u001b[39m\u001b[38;5;241m.\u001b[39mmap, plotter\u001b[38;5;241m=\u001b[39m\u001b[38;5;28mself\u001b[39m)\n",
      "File \u001b[0;32m~/miniconda3/lib/python3.8/site-packages/seaborn/_oldcore.py:701\u001b[0m, in \u001b[0;36mVectorPlotter.assign_variables\u001b[0;34m(self, data, variables)\u001b[0m\n\u001b[1;32m    699\u001b[0m \u001b[38;5;28;01melse\u001b[39;00m:\n\u001b[1;32m    700\u001b[0m     \u001b[38;5;28mself\u001b[39m\u001b[38;5;241m.\u001b[39minput_format \u001b[38;5;241m=\u001b[39m \u001b[38;5;124m\"\u001b[39m\u001b[38;5;124mlong\u001b[39m\u001b[38;5;124m\"\u001b[39m\n\u001b[0;32m--> 701\u001b[0m     plot_data, variables \u001b[38;5;241m=\u001b[39m \u001b[38;5;28;43mself\u001b[39;49m\u001b[38;5;241;43m.\u001b[39;49m\u001b[43m_assign_variables_longform\u001b[49m\u001b[43m(\u001b[49m\n\u001b[1;32m    702\u001b[0m \u001b[43m        \u001b[49m\u001b[43mdata\u001b[49m\u001b[43m,\u001b[49m\u001b[43m \u001b[49m\u001b[38;5;241;43m*\u001b[39;49m\u001b[38;5;241;43m*\u001b[39;49m\u001b[43mvariables\u001b[49m\u001b[43m,\u001b[49m\n\u001b[1;32m    703\u001b[0m \u001b[43m    \u001b[49m\u001b[43m)\u001b[49m\n\u001b[1;32m    705\u001b[0m \u001b[38;5;28mself\u001b[39m\u001b[38;5;241m.\u001b[39mplot_data \u001b[38;5;241m=\u001b[39m plot_data\n\u001b[1;32m    706\u001b[0m \u001b[38;5;28mself\u001b[39m\u001b[38;5;241m.\u001b[39mvariables \u001b[38;5;241m=\u001b[39m variables\n",
      "File \u001b[0;32m~/miniconda3/lib/python3.8/site-packages/seaborn/_oldcore.py:938\u001b[0m, in \u001b[0;36mVectorPlotter._assign_variables_longform\u001b[0;34m(self, data, **kwargs)\u001b[0m\n\u001b[1;32m    933\u001b[0m \u001b[38;5;28;01melif\u001b[39;00m \u001b[38;5;28misinstance\u001b[39m(val, (\u001b[38;5;28mstr\u001b[39m, \u001b[38;5;28mbytes\u001b[39m)):\n\u001b[1;32m    934\u001b[0m \n\u001b[1;32m    935\u001b[0m     \u001b[38;5;66;03m# This looks like a column name but we don't know what it means!\u001b[39;00m\n\u001b[1;32m    937\u001b[0m     err \u001b[38;5;241m=\u001b[39m \u001b[38;5;124mf\u001b[39m\u001b[38;5;124m\"\u001b[39m\u001b[38;5;124mCould not interpret value `\u001b[39m\u001b[38;5;132;01m{\u001b[39;00mval\u001b[38;5;132;01m}\u001b[39;00m\u001b[38;5;124m` for parameter `\u001b[39m\u001b[38;5;132;01m{\u001b[39;00mkey\u001b[38;5;132;01m}\u001b[39;00m\u001b[38;5;124m`\u001b[39m\u001b[38;5;124m\"\u001b[39m\n\u001b[0;32m--> 938\u001b[0m     \u001b[38;5;28;01mraise\u001b[39;00m \u001b[38;5;167;01mValueError\u001b[39;00m(err)\n\u001b[1;32m    940\u001b[0m \u001b[38;5;28;01melse\u001b[39;00m:\n\u001b[1;32m    941\u001b[0m \n\u001b[1;32m    942\u001b[0m     \u001b[38;5;66;03m# Otherwise, assume the value is itself data\u001b[39;00m\n\u001b[1;32m    943\u001b[0m \n\u001b[1;32m    944\u001b[0m     \u001b[38;5;66;03m# Raise when data object is present and a vector can't matched\u001b[39;00m\n\u001b[1;32m    945\u001b[0m     \u001b[38;5;28;01mif\u001b[39;00m \u001b[38;5;28misinstance\u001b[39m(data, pd\u001b[38;5;241m.\u001b[39mDataFrame) \u001b[38;5;129;01mand\u001b[39;00m \u001b[38;5;129;01mnot\u001b[39;00m \u001b[38;5;28misinstance\u001b[39m(val, pd\u001b[38;5;241m.\u001b[39mSeries):\n",
      "\u001b[0;31mValueError\u001b[0m: Could not interpret value `Year` for parameter `x`"
     ]
    },
    {
     "data": {
      "image/png": "[encoded data removed]",
      "text/plain": [
       "<Figure size 2000x1000 with 1 Axes>"
      ]
     },
     "metadata": {},
     "output_type": "display_data"
    }
   ],
   "source": [
    "plt.figure(figsize=(20, 10))\n",
    "plt.title(\"Total Deaths from Opioids in Canada since 2016, by Year\")\n",
    "sns.lineplot(Canada_deaths_data.head, x='Year', y='Opioid Deaths', label='Total Deaths from Opioids in Canada')\n",
    "plt.xlabel('Year_Quarter')"
   ]
  },
  {
   "cell_type": "code",
   "execution_count": null,
   "id": "bd3d55dc",
   "metadata": {},
   "outputs": [],
   "source": []
  },
  {
   "cell_type": "code",
   "execution_count": null,
   "id": "0c4f3901",
   "metadata": {},
   "outputs": [],
   "source": []
  },
  {
   "cell_type": "code",
   "execution_count": null,
   "id": "9f6134c0",
   "metadata": {},
   "outputs": [],
   "source": []
  },
  {
   "cell_type": "code",
   "execution_count": null,
   "id": "d011b0cd",
   "metadata": {},
   "outputs": [],
   "source": []
  },
  {
   "cell_type": "code",
   "execution_count": null,
   "id": "2cfb44aa",
   "metadata": {},
   "outputs": [],
   "source": []
  },
  {
   "cell_type": "code",
   "execution_count": null,
   "id": "a8371e74",
   "metadata": {},
   "outputs": [],
   "source": []
  }
 ],
 "metadata": {
  "kernelspec": {
   "display_name": "Python 3 (ipykernel)",
   "language": "python",
   "name": "python3"
  },
  "language_info": {
   "codemirror_mode": {
    "name": "ipython",
    "version": 3
   },
   "file_extension": ".py",
   "mimetype": "text/x-python",
   "name": "python",
   "nbconvert_exporter": "python",
   "pygments_lexer": "ipython3",
   "version": "3.8.13"
  },
  "papermill": {
   "default_parameters": {},
   "duration": 8.733055,
   "end_time": "2022-11-29T20:18:21.709339",
   "environment_variables": {},
   "exception": null,
   "input_path": "__notebook__.ipynb",
   "output_path": "__notebook__.ipynb",
   "parameters": {},
   "start_time": "2022-11-29T20:18:12.976284",
   "version": "2.3.4"
  }
 },
 "nbformat": 4,
 "nbformat_minor": 5
}
