{
 "cells": [
  {
   "cell_type": "code",
   "execution_count": 1,
   "id": "857c0e8e",
   "metadata": {
    "_cell_guid": "b1076dfc-b9ad-4769-8c92-a6c4dae69d19",
    "_uuid": "8f2839f25d086af736a60e9eeb907d3b93b6e0e5",
    "execution": {
     "iopub.execute_input": "2022-11-29T20:18:19.638014Z",
     "iopub.status.busy": "2022-11-29T20:18:19.637255Z",
     "iopub.status.idle": "2022-11-29T20:18:19.657508Z",
     "shell.execute_reply": "2022-11-29T20:18:19.656144Z"
    },
    "papermill": {
     "duration": 0.031064,
     "end_time": "2022-11-29T20:18:19.660144",
     "exception": false,
     "start_time": "2022-11-29T20:18:19.629080",
     "status": "completed"
    },
    "tags": []
   },
   "outputs": [
    {
     "name": "stdout",
     "output_type": "stream",
     "text": [
      "/kaggle/input/opioids-in-canada/Canada opioid and stimulant Subtance Harms Data June 2022.csv\n",
      "/kaggle/input/opioids-in-canada/Canada population and GDP by province.csv\n"
     ]
    }
   ],
   "source": [
    "# This Python 3 environment comes with many helpful analytics libraries installed\n",
    "# It is defined by the kaggle/python Docker image: https://github.com/kaggle/docker-python\n",
    "# For example, here's several helpful packages to load\n",
    "\n",
    "import numpy as np # linear algebra\n",
    "import pandas as pd # data processing, CSV file I/O (e.g. pd.read_csv)\n",
    "\n",
    "# Input data files are available in the read-only \"../input/\" directory\n",
    "# For example, running this (by clicking run or pressing Shift+Enter) will list all files under the input directory\n",
    "\n",
    "import os\n",
    "for dirname, _, filenames in os.walk('/kaggle/input'):\n",
    "    for filename in filenames:\n",
    "        print(os.path.join(dirname, filename))\n",
    "\n",
    "# You can write up to 20GB to the current directory (/kaggle/working/) that gets preserved as output when you create a version using \"Save & Run All\" \n",
    "# You can also write temporary files to /kaggle/temp/, but they won't be saved outside of the current session"
   ]
  },
  {
   "cell_type": "markdown",
   "id": "d3c645d1",
   "metadata": {
    "papermill": {
     "duration": 0.005144,
     "end_time": "2022-11-29T20:18:19.670907",
     "exception": false,
     "start_time": "2022-11-29T20:18:19.665763",
     "status": "completed"
    },
    "tags": []
   },
   "source": [
    "# Table of Contents"
   ]
  },
  {
   "cell_type": "markdown",
   "id": "88cdbf10",
   "metadata": {
    "papermill": {
     "duration": 0.005086,
     "end_time": "2022-11-29T20:18:19.681286",
     "exception": false,
     "start_time": "2022-11-29T20:18:19.676200",
     "status": "completed"
    },
    "tags": []
   },
   "source": [
    "# Abstract"
   ]
  },
  {
   "cell_type": "markdown",
   "id": "743f4333",
   "metadata": {
    "papermill": {
     "duration": 0.004985,
     "end_time": "2022-11-29T20:18:19.691442",
     "exception": false,
     "start_time": "2022-11-29T20:18:19.686457",
     "status": "completed"
    },
    "tags": []
   },
   "source": [
    "# Introduction\n",
    "* Data on hospitalizations and fatalities\n",
    "\n"
   ]
  },
  {
   "cell_type": "markdown",
   "id": "a1e32ce8",
   "metadata": {
    "papermill": {
     "duration": 0.004991,
     "end_time": "2022-11-29T20:18:19.701623",
     "exception": false,
     "start_time": "2022-11-29T20:18:19.696632",
     "status": "completed"
    },
    "tags": []
   },
   "source": [
    "# Data Overview\n",
    "\n",
    "Dataset Source: \n",
    "\n",
    "Paragraph giving overview of the data"
   ]
  },
  {
   "cell_type": "markdown",
   "id": "efdfa0e5",
   "metadata": {
    "papermill": {
     "duration": 0.00493,
     "end_time": "2022-11-29T20:18:19.711643",
     "exception": false,
     "start_time": "2022-11-29T20:18:19.706713",
     "status": "completed"
    },
    "tags": []
   },
   "source": [
    "# Exploratory Data Analysis (EDA)"
   ]
  },
  {
   "cell_type": "markdown",
   "id": "1f83bf49",
   "metadata": {
    "papermill": {
     "duration": 0.004984,
     "end_time": "2022-11-29T20:18:19.721811",
     "exception": false,
     "start_time": "2022-11-29T20:18:19.716827",
     "status": "completed"
    },
    "tags": []
   },
   "source": [
    "## Setup"
   ]
  },
  {
   "cell_type": "code",
   "execution_count": 2,
   "id": "2b34eb95",
   "metadata": {
    "execution": {
     "iopub.execute_input": "2022-11-29T20:18:19.734920Z",
     "iopub.status.busy": "2022-11-29T20:18:19.734431Z",
     "iopub.status.idle": "2022-11-29T20:18:20.538010Z",
     "shell.execute_reply": "2022-11-29T20:18:20.537332Z"
    },
    "papermill": {
     "duration": 0.81306,
     "end_time": "2022-11-29T20:18:20.540158",
     "exception": false,
     "start_time": "2022-11-29T20:18:19.727098",
     "status": "completed"
    },
    "tags": []
   },
   "outputs": [],
   "source": [
    "import numpy as np\n",
    "import pandas as pd\n",
    "pd.plotting.register_matplotlib_converters()\n",
    "import matplotlib.pyplot as plt\n",
    "%matplotlib inline\n",
    "import seaborn as sns"
   ]
  },
  {
   "cell_type": "code",
   "execution_count": 3,
   "id": "9f5120d1",
   "metadata": {
    "execution": {
     "iopub.execute_input": "2022-11-29T20:18:20.552551Z",
     "iopub.status.busy": "2022-11-29T20:18:20.552238Z",
     "iopub.status.idle": "2022-11-29T20:18:20.557573Z",
     "shell.execute_reply": "2022-11-29T20:18:20.556517Z"
    },
    "papermill": {
     "duration": 0.013883,
     "end_time": "2022-11-29T20:18:20.559671",
     "exception": false,
     "start_time": "2022-11-29T20:18:20.545788",
     "status": "completed"
    },
    "tags": []
   },
   "outputs": [
    {
     "name": "stdout",
     "output_type": "stream",
     "text": [
      "/kaggle/input/opioids-in-canada/Canada opioid and stimulant Subtance Harms Data June 2022.csv\n",
      "/kaggle/input/opioids-in-canada/Canada population and GDP by province.csv\n"
     ]
    }
   ],
   "source": [
    "import os\n",
    "for dirname, _, filenames in os.walk('/kaggle/input'):\n",
    "    for filename in filenames:\n",
    "        print(os.path.join(dirname, filename))"
   ]
  },
  {
   "cell_type": "code",
   "execution_count": 4,
   "id": "d721f107",
   "metadata": {
    "execution": {
     "iopub.execute_input": "2022-11-29T20:18:20.571895Z",
     "iopub.status.busy": "2022-11-29T20:18:20.571597Z",
     "iopub.status.idle": "2022-11-29T20:18:20.619995Z",
     "shell.execute_reply": "2022-11-29T20:18:20.619195Z"
    },
    "papermill": {
     "duration": 0.056923,
     "end_time": "2022-11-29T20:18:20.622179",
     "exception": false,
     "start_time": "2022-11-29T20:18:20.565256",
     "status": "completed"
    },
    "tags": []
   },
   "outputs": [],
   "source": [
    "# save filepath to variable for easier access\n",
    "drug_overdose_filepath = '../input/opioids-in-canada/Canada opioid and stimulant Subtance Harms Data June 2022.csv'\n",
    "\n",
    "# read data and store in dataframe\n",
    "# add encoding to prevent a 'UnicodeDecodeError'\n",
    "df = pd.read_csv(drug_overdose_filepath, encoding = \"ISO-8859-1\")"
   ]
  },
  {
   "cell_type": "markdown",
   "id": "0bd6e998",
   "metadata": {
    "papermill": {
     "duration": 0.00534,
     "end_time": "2022-11-29T20:18:20.633244",
     "exception": false,
     "start_time": "2022-11-29T20:18:20.627904",
     "status": "completed"
    },
    "tags": []
   },
   "source": [
    "## Data Properties"
   ]
  },
  {
   "cell_type": "code",
   "execution_count": 5,
   "id": "e32a7989",
   "metadata": {
    "execution": {
     "iopub.execute_input": "2022-11-29T20:18:20.646658Z",
     "iopub.status.busy": "2022-11-29T20:18:20.645709Z",
     "iopub.status.idle": "2022-11-29T20:18:20.653313Z",
     "shell.execute_reply": "2022-11-29T20:18:20.652578Z"
    },
    "papermill": {
     "duration": 0.016078,
     "end_time": "2022-11-29T20:18:20.654998",
     "exception": false,
     "start_time": "2022-11-29T20:18:20.638920",
     "status": "completed"
    },
    "tags": []
   },
   "outputs": [
    {
     "data": {
      "text/plain": [
       "(12159, 12)"
      ]
     },
     "execution_count": 5,
     "metadata": {},
     "output_type": "execute_result"
    }
   ],
   "source": [
    "# check shape\n",
    "df.shape"
   ]
  },
  {
   "cell_type": "code",
   "execution_count": 6,
   "id": "1af4ee4d",
   "metadata": {
    "execution": {
     "iopub.execute_input": "2022-11-29T20:18:20.667411Z",
     "iopub.status.busy": "2022-11-29T20:18:20.667022Z",
     "iopub.status.idle": "2022-11-29T20:18:20.693975Z",
     "shell.execute_reply": "2022-11-29T20:18:20.692558Z"
    },
    "papermill": {
     "duration": 0.035446,
     "end_time": "2022-11-29T20:18:20.695954",
     "exception": false,
     "start_time": "2022-11-29T20:18:20.660508",
     "status": "completed"
    },
    "tags": []
   },
   "outputs": [
    {
     "name": "stdout",
     "output_type": "stream",
     "text": [
      "<class 'pandas.core.frame.DataFrame'>\n",
      "RangeIndex: 12159 entries, 0 to 12158\n",
      "Data columns (total 12 columns):\n",
      " #   Column            Non-Null Count  Dtype \n",
      "---  ------            --------------  ----- \n",
      " 0   Substance         12159 non-null  object\n",
      " 1   Source            12159 non-null  object\n",
      " 2   Specific_Measure  12159 non-null  object\n",
      " 3   Type_Event        12159 non-null  object\n",
      " 4   Region            12159 non-null  object\n",
      " 5   PRUID             12159 non-null  int64 \n",
      " 6   Time_Period       12159 non-null  object\n",
      " 7   Year_Quarter      12159 non-null  object\n",
      " 8   Aggregator        8123 non-null   object\n",
      " 9   Disaggregator     8123 non-null   object\n",
      " 10  Unit              12159 non-null  object\n",
      " 11  Value             11624 non-null  object\n",
      "dtypes: int64(1), object(11)\n",
      "memory usage: 1.1+ MB\n"
     ]
    }
   ],
   "source": [
    "# check cols, properties, and numbers in register values\n",
    "df.info()"
   ]
  },
  {
   "cell_type": "markdown",
   "id": "e75bfe88",
   "metadata": {
    "papermill": {
     "duration": 0.005551,
     "end_time": "2022-11-29T20:18:20.707466",
     "exception": false,
     "start_time": "2022-11-29T20:18:20.701915",
     "status": "completed"
    },
    "tags": []
   },
   "source": [
    "### Missing Data"
   ]
  },
  {
   "cell_type": "code",
   "execution_count": 7,
   "id": "d9499d6d",
   "metadata": {
    "execution": {
     "iopub.execute_input": "2022-11-29T20:18:20.720749Z",
     "iopub.status.busy": "2022-11-29T20:18:20.720107Z",
     "iopub.status.idle": "2022-11-29T20:18:20.732247Z",
     "shell.execute_reply": "2022-11-29T20:18:20.731335Z"
    },
    "papermill": {
     "duration": 0.02091,
     "end_time": "2022-11-29T20:18:20.734114",
     "exception": false,
     "start_time": "2022-11-29T20:18:20.713204",
     "status": "completed"
    },
    "tags": []
   },
   "outputs": [
    {
     "data": {
      "text/plain": [
       "True"
      ]
     },
     "execution_count": 7,
     "metadata": {},
     "output_type": "execute_result"
    }
   ],
   "source": [
    "# check for missing data\n",
    "df.isnull().values.any()"
   ]
  },
  {
   "cell_type": "code",
   "execution_count": 8,
   "id": "c576e09a",
   "metadata": {
    "execution": {
     "iopub.execute_input": "2022-11-29T20:18:20.751144Z",
     "iopub.status.busy": "2022-11-29T20:18:20.750216Z",
     "iopub.status.idle": "2022-11-29T20:18:20.764921Z",
     "shell.execute_reply": "2022-11-29T20:18:20.764062Z"
    },
    "papermill": {
     "duration": 0.025588,
     "end_time": "2022-11-29T20:18:20.766661",
     "exception": false,
     "start_time": "2022-11-29T20:18:20.741073",
     "status": "completed"
    },
    "tags": []
   },
   "outputs": [
    {
     "data": {
      "text/plain": [
       "Substance              0\n",
       "Source                 0\n",
       "Specific_Measure       0\n",
       "Type_Event             0\n",
       "Region                 0\n",
       "PRUID                  0\n",
       "Time_Period            0\n",
       "Year_Quarter           0\n",
       "Aggregator          4036\n",
       "Disaggregator       4036\n",
       "Unit                   0\n",
       "Value                535\n",
       "dtype: int64"
      ]
     },
     "execution_count": 8,
     "metadata": {},
     "output_type": "execute_result"
    }
   ],
   "source": [
    "# search for missing data location\n",
    "df.isnull().sum()"
   ]
  },
  {
   "cell_type": "markdown",
   "id": "8354dc14",
   "metadata": {
    "papermill": {
     "duration": 0.005605,
     "end_time": "2022-11-29T20:18:20.778439",
     "exception": false,
     "start_time": "2022-11-29T20:18:20.772834",
     "status": "completed"
    },
    "tags": []
   },
   "source": [
    "## Data Overview"
   ]
  },
  {
   "cell_type": "code",
   "execution_count": 9,
   "id": "21e93be5",
   "metadata": {
    "execution": {
     "iopub.execute_input": "2022-11-29T20:18:20.792033Z",
     "iopub.status.busy": "2022-11-29T20:18:20.791493Z",
     "iopub.status.idle": "2022-11-29T20:18:20.805664Z",
     "shell.execute_reply": "2022-11-29T20:18:20.804994Z"
    },
    "papermill": {
     "duration": 0.022833,
     "end_time": "2022-11-29T20:18:20.807284",
     "exception": false,
     "start_time": "2022-11-29T20:18:20.784451",
     "status": "completed"
    },
    "tags": []
   },
   "outputs": [
    {
     "data": {
      "text/html": [
       "<div>\n",
       "<style scoped>\n",
       "    .dataframe tbody tr th:only-of-type {\n",
       "        vertical-align: middle;\n",
       "    }\n",
       "\n",
       "    .dataframe tbody tr th {\n",
       "        vertical-align: top;\n",
       "    }\n",
       "\n",
       "    .dataframe thead th {\n",
       "        text-align: right;\n",
       "    }\n",
       "</style>\n",
       "<table border=\"1\" class=\"dataframe\">\n",
       "  <thead>\n",
       "    <tr style=\"text-align: right;\">\n",
       "      <th></th>\n",
       "      <th>PRUID</th>\n",
       "    </tr>\n",
       "  </thead>\n",
       "  <tbody>\n",
       "    <tr>\n",
       "      <th>count</th>\n",
       "      <td>12159.000000</td>\n",
       "    </tr>\n",
       "    <tr>\n",
       "      <th>mean</th>\n",
       "      <td>31.429312</td>\n",
       "    </tr>\n",
       "    <tr>\n",
       "      <th>std</th>\n",
       "      <td>21.626453</td>\n",
       "    </tr>\n",
       "    <tr>\n",
       "      <th>min</th>\n",
       "      <td>1.000000</td>\n",
       "    </tr>\n",
       "    <tr>\n",
       "      <th>25%</th>\n",
       "      <td>12.000000</td>\n",
       "    </tr>\n",
       "    <tr>\n",
       "      <th>50%</th>\n",
       "      <td>35.000000</td>\n",
       "    </tr>\n",
       "    <tr>\n",
       "      <th>75%</th>\n",
       "      <td>48.000000</td>\n",
       "    </tr>\n",
       "    <tr>\n",
       "      <th>max</th>\n",
       "      <td>63.000000</td>\n",
       "    </tr>\n",
       "  </tbody>\n",
       "</table>\n",
       "</div>"
      ],
      "text/plain": [
       "              PRUID\n",
       "count  12159.000000\n",
       "mean      31.429312\n",
       "std       21.626453\n",
       "min        1.000000\n",
       "25%       12.000000\n",
       "50%       35.000000\n",
       "75%       48.000000\n",
       "max       63.000000"
      ]
     },
     "execution_count": 9,
     "metadata": {},
     "output_type": "execute_result"
    }
   ],
   "source": [
    "# analysis of numerical values\n",
    "df.describe()"
   ]
  },
  {
   "cell_type": "code",
   "execution_count": 10,
   "id": "3187c9e9",
   "metadata": {
    "execution": {
     "iopub.execute_input": "2022-11-29T20:18:20.821348Z",
     "iopub.status.busy": "2022-11-29T20:18:20.820799Z",
     "iopub.status.idle": "2022-11-29T20:18:20.836432Z",
     "shell.execute_reply": "2022-11-29T20:18:20.835439Z"
    },
    "papermill": {
     "duration": 0.024927,
     "end_time": "2022-11-29T20:18:20.838439",
     "exception": false,
     "start_time": "2022-11-29T20:18:20.813512",
     "status": "completed"
    },
    "tags": []
   },
   "outputs": [
    {
     "data": {
      "text/html": [
       "<div>\n",
       "<style scoped>\n",
       "    .dataframe tbody tr th:only-of-type {\n",
       "        vertical-align: middle;\n",
       "    }\n",
       "\n",
       "    .dataframe tbody tr th {\n",
       "        vertical-align: top;\n",
       "    }\n",
       "\n",
       "    .dataframe thead th {\n",
       "        text-align: right;\n",
       "    }\n",
       "</style>\n",
       "<table border=\"1\" class=\"dataframe\">\n",
       "  <thead>\n",
       "    <tr style=\"text-align: right;\">\n",
       "      <th></th>\n",
       "      <th>Substance</th>\n",
       "      <th>Source</th>\n",
       "      <th>Specific_Measure</th>\n",
       "      <th>Type_Event</th>\n",
       "      <th>Region</th>\n",
       "      <th>PRUID</th>\n",
       "      <th>Time_Period</th>\n",
       "      <th>Year_Quarter</th>\n",
       "      <th>Aggregator</th>\n",
       "      <th>Disaggregator</th>\n",
       "      <th>Unit</th>\n",
       "      <th>Value</th>\n",
       "    </tr>\n",
       "  </thead>\n",
       "  <tbody>\n",
       "    <tr>\n",
       "      <th>8819</th>\n",
       "      <td>Stimulants</td>\n",
       "      <td>Deaths</td>\n",
       "      <td>Age group</td>\n",
       "      <td>Accidental apparent stimulant toxicity deaths</td>\n",
       "      <td>Canada</td>\n",
       "      <td>1</td>\n",
       "      <td>By year</td>\n",
       "      <td>2018</td>\n",
       "      <td>2018</td>\n",
       "      <td>60 years or more</td>\n",
       "      <td>Percent</td>\n",
       "      <td>8</td>\n",
       "    </tr>\n",
       "    <tr>\n",
       "      <th>9574</th>\n",
       "      <td>Stimulants</td>\n",
       "      <td>Deaths</td>\n",
       "      <td>Type of stimulants by sex</td>\n",
       "      <td>Accidental apparent stimulant toxicity deaths</td>\n",
       "      <td>Quebec</td>\n",
       "      <td>24</td>\n",
       "      <td>By year</td>\n",
       "      <td>2018</td>\n",
       "      <td>Cocaine</td>\n",
       "      <td>Male</td>\n",
       "      <td>Percent</td>\n",
       "      <td>81</td>\n",
       "    </tr>\n",
       "    <tr>\n",
       "      <th>3533</th>\n",
       "      <td>Opioids</td>\n",
       "      <td>Deaths</td>\n",
       "      <td>Type of opioids by age group</td>\n",
       "      <td>Accidental apparent opioid toxicity deaths</td>\n",
       "      <td>British Columbia</td>\n",
       "      <td>59</td>\n",
       "      <td>By year</td>\n",
       "      <td>2020</td>\n",
       "      <td>Fentanyl analogues</td>\n",
       "      <td>30 to 39 years</td>\n",
       "      <td>Percent</td>\n",
       "      <td>27</td>\n",
       "    </tr>\n",
       "    <tr>\n",
       "      <th>10539</th>\n",
       "      <td>Stimulants</td>\n",
       "      <td>Hospitalizations</td>\n",
       "      <td>Overall numbers</td>\n",
       "      <td>Total stimulant-related poisoning hospitalizat...</td>\n",
       "      <td>Prince Edward Island</td>\n",
       "      <td>11</td>\n",
       "      <td>By year</td>\n",
       "      <td>2020</td>\n",
       "      <td>NaN</td>\n",
       "      <td>NaN</td>\n",
       "      <td>Crude rate</td>\n",
       "      <td>4.3</td>\n",
       "    </tr>\n",
       "    <tr>\n",
       "      <th>9003</th>\n",
       "      <td>Stimulants</td>\n",
       "      <td>Deaths</td>\n",
       "      <td>Type of stimulants</td>\n",
       "      <td>Accidental apparent stimulant toxicity deaths</td>\n",
       "      <td>Canada</td>\n",
       "      <td>1</td>\n",
       "      <td>By year</td>\n",
       "      <td>2019</td>\n",
       "      <td>2019</td>\n",
       "      <td>Cocaine</td>\n",
       "      <td>Percent</td>\n",
       "      <td>66</td>\n",
       "    </tr>\n",
       "  </tbody>\n",
       "</table>\n",
       "</div>"
      ],
      "text/plain": [
       "        Substance            Source              Specific_Measure  \\\n",
       "8819   Stimulants            Deaths                     Age group   \n",
       "9574   Stimulants            Deaths     Type of stimulants by sex   \n",
       "3533      Opioids            Deaths  Type of opioids by age group   \n",
       "10539  Stimulants  Hospitalizations               Overall numbers   \n",
       "9003   Stimulants            Deaths            Type of stimulants   \n",
       "\n",
       "                                              Type_Event  \\\n",
       "8819       Accidental apparent stimulant toxicity deaths   \n",
       "9574       Accidental apparent stimulant toxicity deaths   \n",
       "3533          Accidental apparent opioid toxicity deaths   \n",
       "10539  Total stimulant-related poisoning hospitalizat...   \n",
       "9003       Accidental apparent stimulant toxicity deaths   \n",
       "\n",
       "                     Region  PRUID Time_Period Year_Quarter  \\\n",
       "8819                 Canada      1     By year         2018   \n",
       "9574                 Quebec     24     By year         2018   \n",
       "3533       British Columbia     59     By year         2020   \n",
       "10539  Prince Edward Island     11     By year         2020   \n",
       "9003                 Canada      1     By year         2019   \n",
       "\n",
       "               Aggregator     Disaggregator        Unit Value  \n",
       "8819                 2018  60 years or more     Percent     8  \n",
       "9574              Cocaine              Male     Percent    81  \n",
       "3533   Fentanyl analogues    30 to 39 years     Percent    27  \n",
       "10539                 NaN               NaN  Crude rate   4.3  \n",
       "9003                 2019           Cocaine     Percent    66  "
      ]
     },
     "execution_count": 10,
     "metadata": {},
     "output_type": "execute_result"
    }
   ],
   "source": [
    "# print random sample\n",
    "df.sample(5)"
   ]
  },
  {
   "cell_type": "code",
   "execution_count": 11,
   "id": "e7b8506b",
   "metadata": {
    "execution": {
     "iopub.execute_input": "2022-11-29T20:18:20.854589Z",
     "iopub.status.busy": "2022-11-29T20:18:20.853991Z",
     "iopub.status.idle": "2022-11-29T20:18:20.878937Z",
     "shell.execute_reply": "2022-11-29T20:18:20.878005Z"
    },
    "papermill": {
     "duration": 0.035539,
     "end_time": "2022-11-29T20:18:20.880681",
     "exception": false,
     "start_time": "2022-11-29T20:18:20.845142",
     "status": "completed"
    },
    "tags": []
   },
   "outputs": [
    {
     "data": {
      "text/html": [
       "<div>\n",
       "<style scoped>\n",
       "    .dataframe tbody tr th:only-of-type {\n",
       "        vertical-align: middle;\n",
       "    }\n",
       "\n",
       "    .dataframe tbody tr th {\n",
       "        vertical-align: top;\n",
       "    }\n",
       "\n",
       "    .dataframe thead th {\n",
       "        text-align: right;\n",
       "    }\n",
       "</style>\n",
       "<table border=\"1\" class=\"dataframe\">\n",
       "  <thead>\n",
       "    <tr style=\"text-align: right;\">\n",
       "      <th></th>\n",
       "      <th>Substance</th>\n",
       "      <th>Source</th>\n",
       "      <th>Specific_Measure</th>\n",
       "      <th>Type_Event</th>\n",
       "      <th>Region</th>\n",
       "      <th>PRUID</th>\n",
       "      <th>Time_Period</th>\n",
       "      <th>Year_Quarter</th>\n",
       "      <th>Aggregator</th>\n",
       "      <th>Disaggregator</th>\n",
       "      <th>Unit</th>\n",
       "      <th>Value</th>\n",
       "    </tr>\n",
       "  </thead>\n",
       "  <tbody>\n",
       "    <tr>\n",
       "      <th>0</th>\n",
       "      <td>Opioids</td>\n",
       "      <td>Deaths</td>\n",
       "      <td>Overall numbers</td>\n",
       "      <td>Total apparent opioid toxicity deaths</td>\n",
       "      <td>Canada</td>\n",
       "      <td>1</td>\n",
       "      <td>By year</td>\n",
       "      <td>2016</td>\n",
       "      <td>NaN</td>\n",
       "      <td>NaN</td>\n",
       "      <td>Crude rate</td>\n",
       "      <td>7.8</td>\n",
       "    </tr>\n",
       "    <tr>\n",
       "      <th>1</th>\n",
       "      <td>Opioids</td>\n",
       "      <td>Deaths</td>\n",
       "      <td>Overall numbers</td>\n",
       "      <td>Total apparent opioid toxicity deaths</td>\n",
       "      <td>Canada</td>\n",
       "      <td>1</td>\n",
       "      <td>By year</td>\n",
       "      <td>2016</td>\n",
       "      <td>NaN</td>\n",
       "      <td>NaN</td>\n",
       "      <td>Number</td>\n",
       "      <td>2829</td>\n",
       "    </tr>\n",
       "    <tr>\n",
       "      <th>2</th>\n",
       "      <td>Opioids</td>\n",
       "      <td>Deaths</td>\n",
       "      <td>Overall numbers</td>\n",
       "      <td>Total apparent opioid toxicity deaths</td>\n",
       "      <td>Canada</td>\n",
       "      <td>1</td>\n",
       "      <td>By year</td>\n",
       "      <td>2016</td>\n",
       "      <td>NaN</td>\n",
       "      <td>NaN</td>\n",
       "      <td>Age-adjusted rate</td>\n",
       "      <td>7.8</td>\n",
       "    </tr>\n",
       "    <tr>\n",
       "      <th>3</th>\n",
       "      <td>Opioids</td>\n",
       "      <td>Deaths</td>\n",
       "      <td>Overall numbers</td>\n",
       "      <td>Total apparent opioid toxicity deaths</td>\n",
       "      <td>Canada</td>\n",
       "      <td>1</td>\n",
       "      <td>By year</td>\n",
       "      <td>2017</td>\n",
       "      <td>NaN</td>\n",
       "      <td>NaN</td>\n",
       "      <td>Crude rate</td>\n",
       "      <td>10.7</td>\n",
       "    </tr>\n",
       "    <tr>\n",
       "      <th>4</th>\n",
       "      <td>Opioids</td>\n",
       "      <td>Deaths</td>\n",
       "      <td>Overall numbers</td>\n",
       "      <td>Total apparent opioid toxicity deaths</td>\n",
       "      <td>Canada</td>\n",
       "      <td>1</td>\n",
       "      <td>By year</td>\n",
       "      <td>2017</td>\n",
       "      <td>NaN</td>\n",
       "      <td>NaN</td>\n",
       "      <td>Number</td>\n",
       "      <td>3921</td>\n",
       "    </tr>\n",
       "    <tr>\n",
       "      <th>...</th>\n",
       "      <td>...</td>\n",
       "      <td>...</td>\n",
       "      <td>...</td>\n",
       "      <td>...</td>\n",
       "      <td>...</td>\n",
       "      <td>...</td>\n",
       "      <td>...</td>\n",
       "      <td>...</td>\n",
       "      <td>...</td>\n",
       "      <td>...</td>\n",
       "      <td>...</td>\n",
       "      <td>...</td>\n",
       "    </tr>\n",
       "    <tr>\n",
       "      <th>12154</th>\n",
       "      <td>Stimulants</td>\n",
       "      <td>Hospitalizations</td>\n",
       "      <td>Age group by sex</td>\n",
       "      <td>Intentional stimulant-related poisoning hospit...</td>\n",
       "      <td>Canada</td>\n",
       "      <td>1</td>\n",
       "      <td>By year</td>\n",
       "      <td>2016</td>\n",
       "      <td>40 to 49 years</td>\n",
       "      <td>Male</td>\n",
       "      <td>Number</td>\n",
       "      <td>41</td>\n",
       "    </tr>\n",
       "    <tr>\n",
       "      <th>12155</th>\n",
       "      <td>Stimulants</td>\n",
       "      <td>Hospitalizations</td>\n",
       "      <td>Age group by sex</td>\n",
       "      <td>Intentional stimulant-related poisoning hospit...</td>\n",
       "      <td>Canada</td>\n",
       "      <td>1</td>\n",
       "      <td>By year</td>\n",
       "      <td>2016</td>\n",
       "      <td>50 to 59 years</td>\n",
       "      <td>Female</td>\n",
       "      <td>Number</td>\n",
       "      <td>31</td>\n",
       "    </tr>\n",
       "    <tr>\n",
       "      <th>12156</th>\n",
       "      <td>Stimulants</td>\n",
       "      <td>Hospitalizations</td>\n",
       "      <td>Age group by sex</td>\n",
       "      <td>Intentional stimulant-related poisoning hospit...</td>\n",
       "      <td>Canada</td>\n",
       "      <td>1</td>\n",
       "      <td>By year</td>\n",
       "      <td>2016</td>\n",
       "      <td>50 to 59 years</td>\n",
       "      <td>Male</td>\n",
       "      <td>Number</td>\n",
       "      <td>29</td>\n",
       "    </tr>\n",
       "    <tr>\n",
       "      <th>12157</th>\n",
       "      <td>Stimulants</td>\n",
       "      <td>Hospitalizations</td>\n",
       "      <td>Age group by sex</td>\n",
       "      <td>Intentional stimulant-related poisoning hospit...</td>\n",
       "      <td>Canada</td>\n",
       "      <td>1</td>\n",
       "      <td>By year</td>\n",
       "      <td>2016</td>\n",
       "      <td>60 years or more</td>\n",
       "      <td>Female</td>\n",
       "      <td>Number</td>\n",
       "      <td>8</td>\n",
       "    </tr>\n",
       "    <tr>\n",
       "      <th>12158</th>\n",
       "      <td>Stimulants</td>\n",
       "      <td>Hospitalizations</td>\n",
       "      <td>Age group by sex</td>\n",
       "      <td>Intentional stimulant-related poisoning hospit...</td>\n",
       "      <td>Canada</td>\n",
       "      <td>1</td>\n",
       "      <td>By year</td>\n",
       "      <td>2016</td>\n",
       "      <td>60 years or more</td>\n",
       "      <td>Male</td>\n",
       "      <td>Number</td>\n",
       "      <td>8</td>\n",
       "    </tr>\n",
       "  </tbody>\n",
       "</table>\n",
       "<p>12159 rows × 12 columns</p>\n",
       "</div>"
      ],
      "text/plain": [
       "        Substance            Source  Specific_Measure  \\\n",
       "0         Opioids            Deaths   Overall numbers   \n",
       "1         Opioids            Deaths   Overall numbers   \n",
       "2         Opioids            Deaths   Overall numbers   \n",
       "3         Opioids            Deaths   Overall numbers   \n",
       "4         Opioids            Deaths   Overall numbers   \n",
       "...           ...               ...               ...   \n",
       "12154  Stimulants  Hospitalizations  Age group by sex   \n",
       "12155  Stimulants  Hospitalizations  Age group by sex   \n",
       "12156  Stimulants  Hospitalizations  Age group by sex   \n",
       "12157  Stimulants  Hospitalizations  Age group by sex   \n",
       "12158  Stimulants  Hospitalizations  Age group by sex   \n",
       "\n",
       "                                              Type_Event  Region  PRUID  \\\n",
       "0                  Total apparent opioid toxicity deaths  Canada      1   \n",
       "1                  Total apparent opioid toxicity deaths  Canada      1   \n",
       "2                  Total apparent opioid toxicity deaths  Canada      1   \n",
       "3                  Total apparent opioid toxicity deaths  Canada      1   \n",
       "4                  Total apparent opioid toxicity deaths  Canada      1   \n",
       "...                                                  ...     ...    ...   \n",
       "12154  Intentional stimulant-related poisoning hospit...  Canada      1   \n",
       "12155  Intentional stimulant-related poisoning hospit...  Canada      1   \n",
       "12156  Intentional stimulant-related poisoning hospit...  Canada      1   \n",
       "12157  Intentional stimulant-related poisoning hospit...  Canada      1   \n",
       "12158  Intentional stimulant-related poisoning hospit...  Canada      1   \n",
       "\n",
       "      Time_Period Year_Quarter        Aggregator Disaggregator  \\\n",
       "0         By year         2016               NaN           NaN   \n",
       "1         By year         2016               NaN           NaN   \n",
       "2         By year         2016               NaN           NaN   \n",
       "3         By year         2017               NaN           NaN   \n",
       "4         By year         2017               NaN           NaN   \n",
       "...           ...          ...               ...           ...   \n",
       "12154     By year         2016    40 to 49 years          Male   \n",
       "12155     By year         2016    50 to 59 years        Female   \n",
       "12156     By year         2016    50 to 59 years          Male   \n",
       "12157     By year         2016  60 years or more        Female   \n",
       "12158     By year         2016  60 years or more          Male   \n",
       "\n",
       "                    Unit Value  \n",
       "0             Crude rate   7.8  \n",
       "1                 Number  2829  \n",
       "2      Age-adjusted rate   7.8  \n",
       "3             Crude rate  10.7  \n",
       "4                 Number  3921  \n",
       "...                  ...   ...  \n",
       "12154             Number    41  \n",
       "12155             Number    31  \n",
       "12156             Number    29  \n",
       "12157             Number     8  \n",
       "12158             Number     8  \n",
       "\n",
       "[12159 rows x 12 columns]"
      ]
     },
     "execution_count": 11,
     "metadata": {},
     "output_type": "execute_result"
    }
   ],
   "source": [
    "# 12159 instances, so hard to see full set\n",
    "df"
   ]
  },
  {
   "cell_type": "markdown",
   "id": "e7d0cf2b",
   "metadata": {
    "papermill": {
     "duration": 0.0066,
     "end_time": "2022-11-29T20:18:20.893939",
     "exception": false,
     "start_time": "2022-11-29T20:18:20.887339",
     "status": "completed"
    },
    "tags": []
   },
   "source": [
    "# Visualization"
   ]
  },
  {
   "cell_type": "markdown",
   "id": "0d210cb6",
   "metadata": {
    "papermill": {
     "duration": 0.006324,
     "end_time": "2022-11-29T20:18:20.906888",
     "exception": false,
     "start_time": "2022-11-29T20:18:20.900564",
     "status": "completed"
    },
    "tags": []
   },
   "source": [
    "## Data Preparation"
   ]
  },
  {
   "cell_type": "code",
   "execution_count": null,
   "id": "bc38202a",
   "metadata": {
    "papermill": {
     "duration": 0.006309,
     "end_time": "2022-11-29T20:18:20.919774",
     "exception": false,
     "start_time": "2022-11-29T20:18:20.913465",
     "status": "completed"
    },
    "tags": []
   },
   "outputs": [],
   "source": []
  },
  {
   "cell_type": "code",
   "execution_count": 12,
   "id": "87cc9192",
   "metadata": {
    "execution": {
     "iopub.execute_input": "2022-11-29T20:18:20.935061Z",
     "iopub.status.busy": "2022-11-29T20:18:20.934097Z",
     "iopub.status.idle": "2022-11-29T20:18:20.951003Z",
     "shell.execute_reply": "2022-11-29T20:18:20.950060Z"
    },
    "papermill": {
     "duration": 0.02651,
     "end_time": "2022-11-29T20:18:20.952970",
     "exception": false,
     "start_time": "2022-11-29T20:18:20.926460",
     "status": "completed"
    },
    "tags": []
   },
   "outputs": [
    {
     "data": {
      "text/html": [
       "<div>\n",
       "<style scoped>\n",
       "    .dataframe tbody tr th:only-of-type {\n",
       "        vertical-align: middle;\n",
       "    }\n",
       "\n",
       "    .dataframe tbody tr th {\n",
       "        vertical-align: top;\n",
       "    }\n",
       "\n",
       "    .dataframe thead th {\n",
       "        text-align: right;\n",
       "    }\n",
       "</style>\n",
       "<table border=\"1\" class=\"dataframe\">\n",
       "  <thead>\n",
       "    <tr style=\"text-align: right;\">\n",
       "      <th></th>\n",
       "      <th>Substance</th>\n",
       "      <th>Source</th>\n",
       "      <th>Specific_Measure</th>\n",
       "      <th>Type_Event</th>\n",
       "      <th>Region</th>\n",
       "      <th>Time_Period</th>\n",
       "      <th>Year_Quarter</th>\n",
       "      <th>Aggregator</th>\n",
       "      <th>Disaggregator</th>\n",
       "      <th>Unit</th>\n",
       "      <th>Value</th>\n",
       "    </tr>\n",
       "  </thead>\n",
       "  <tbody>\n",
       "    <tr>\n",
       "      <th>0</th>\n",
       "      <td>Opioids</td>\n",
       "      <td>Deaths</td>\n",
       "      <td>Overall numbers</td>\n",
       "      <td>Total apparent opioid toxicity deaths</td>\n",
       "      <td>Canada</td>\n",
       "      <td>By year</td>\n",
       "      <td>2016</td>\n",
       "      <td>NaN</td>\n",
       "      <td>NaN</td>\n",
       "      <td>Crude rate</td>\n",
       "      <td>7.8</td>\n",
       "    </tr>\n",
       "    <tr>\n",
       "      <th>1</th>\n",
       "      <td>Opioids</td>\n",
       "      <td>Deaths</td>\n",
       "      <td>Overall numbers</td>\n",
       "      <td>Total apparent opioid toxicity deaths</td>\n",
       "      <td>Canada</td>\n",
       "      <td>By year</td>\n",
       "      <td>2016</td>\n",
       "      <td>NaN</td>\n",
       "      <td>NaN</td>\n",
       "      <td>Number</td>\n",
       "      <td>2829</td>\n",
       "    </tr>\n",
       "    <tr>\n",
       "      <th>2</th>\n",
       "      <td>Opioids</td>\n",
       "      <td>Deaths</td>\n",
       "      <td>Overall numbers</td>\n",
       "      <td>Total apparent opioid toxicity deaths</td>\n",
       "      <td>Canada</td>\n",
       "      <td>By year</td>\n",
       "      <td>2016</td>\n",
       "      <td>NaN</td>\n",
       "      <td>NaN</td>\n",
       "      <td>Age-adjusted rate</td>\n",
       "      <td>7.8</td>\n",
       "    </tr>\n",
       "    <tr>\n",
       "      <th>3</th>\n",
       "      <td>Opioids</td>\n",
       "      <td>Deaths</td>\n",
       "      <td>Overall numbers</td>\n",
       "      <td>Total apparent opioid toxicity deaths</td>\n",
       "      <td>Canada</td>\n",
       "      <td>By year</td>\n",
       "      <td>2017</td>\n",
       "      <td>NaN</td>\n",
       "      <td>NaN</td>\n",
       "      <td>Crude rate</td>\n",
       "      <td>10.7</td>\n",
       "    </tr>\n",
       "    <tr>\n",
       "      <th>4</th>\n",
       "      <td>Opioids</td>\n",
       "      <td>Deaths</td>\n",
       "      <td>Overall numbers</td>\n",
       "      <td>Total apparent opioid toxicity deaths</td>\n",
       "      <td>Canada</td>\n",
       "      <td>By year</td>\n",
       "      <td>2017</td>\n",
       "      <td>NaN</td>\n",
       "      <td>NaN</td>\n",
       "      <td>Number</td>\n",
       "      <td>3921</td>\n",
       "    </tr>\n",
       "  </tbody>\n",
       "</table>\n",
       "</div>"
      ],
      "text/plain": [
       "  Substance  Source Specific_Measure                             Type_Event  \\\n",
       "0   Opioids  Deaths  Overall numbers  Total apparent opioid toxicity deaths   \n",
       "1   Opioids  Deaths  Overall numbers  Total apparent opioid toxicity deaths   \n",
       "2   Opioids  Deaths  Overall numbers  Total apparent opioid toxicity deaths   \n",
       "3   Opioids  Deaths  Overall numbers  Total apparent opioid toxicity deaths   \n",
       "4   Opioids  Deaths  Overall numbers  Total apparent opioid toxicity deaths   \n",
       "\n",
       "   Region Time_Period Year_Quarter Aggregator Disaggregator  \\\n",
       "0  Canada     By year         2016        NaN           NaN   \n",
       "1  Canada     By year         2016        NaN           NaN   \n",
       "2  Canada     By year         2016        NaN           NaN   \n",
       "3  Canada     By year         2017        NaN           NaN   \n",
       "4  Canada     By year         2017        NaN           NaN   \n",
       "\n",
       "                Unit Value  \n",
       "0         Crude rate   7.8  \n",
       "1             Number  2829  \n",
       "2  Age-adjusted rate   7.8  \n",
       "3         Crude rate  10.7  \n",
       "4             Number  3921  "
      ]
     },
     "execution_count": 12,
     "metadata": {},
     "output_type": "execute_result"
    }
   ],
   "source": [
    "# since the PRUID is a STATSCAN method of identifying province, it can be removed\n",
    "df.drop(labels='PRUID', axis=1, inplace=True)\n",
    "\n",
    "# check\n",
    "df.head()"
   ]
  },
  {
   "cell_type": "code",
   "execution_count": 13,
   "id": "96f18b86",
   "metadata": {
    "execution": {
     "iopub.execute_input": "2022-11-29T20:18:20.970240Z",
     "iopub.status.busy": "2022-11-29T20:18:20.969780Z",
     "iopub.status.idle": "2022-11-29T20:18:20.985896Z",
     "shell.execute_reply": "2022-11-29T20:18:20.985092Z"
    },
    "papermill": {
     "duration": 0.02752,
     "end_time": "2022-11-29T20:18:20.987723",
     "exception": false,
     "start_time": "2022-11-29T20:18:20.960203",
     "status": "completed"
    },
    "tags": []
   },
   "outputs": [
    {
     "data": {
      "text/html": [
       "<div>\n",
       "<style scoped>\n",
       "    .dataframe tbody tr th:only-of-type {\n",
       "        vertical-align: middle;\n",
       "    }\n",
       "\n",
       "    .dataframe tbody tr th {\n",
       "        vertical-align: top;\n",
       "    }\n",
       "\n",
       "    .dataframe thead th {\n",
       "        text-align: right;\n",
       "    }\n",
       "</style>\n",
       "<table border=\"1\" class=\"dataframe\">\n",
       "  <thead>\n",
       "    <tr style=\"text-align: right;\">\n",
       "      <th></th>\n",
       "      <th>Substance</th>\n",
       "      <th>Source</th>\n",
       "      <th>Specific_Measure</th>\n",
       "      <th>Type_Event</th>\n",
       "      <th>Region</th>\n",
       "      <th>Time_Period</th>\n",
       "      <th>Year_Quarter</th>\n",
       "      <th>Aggregator</th>\n",
       "      <th>Disaggregator</th>\n",
       "      <th>Unit</th>\n",
       "      <th>Value</th>\n",
       "    </tr>\n",
       "  </thead>\n",
       "  <tbody>\n",
       "    <tr>\n",
       "      <th>0</th>\n",
       "      <td>Opioids</td>\n",
       "      <td>Deaths</td>\n",
       "      <td>Overall numbers</td>\n",
       "      <td>Total apparent opioid toxicity deaths</td>\n",
       "      <td>Canada</td>\n",
       "      <td>By year</td>\n",
       "      <td>2016</td>\n",
       "      <td>NaN</td>\n",
       "      <td>NaN</td>\n",
       "      <td>Crude rate</td>\n",
       "      <td>7.8</td>\n",
       "    </tr>\n",
       "    <tr>\n",
       "      <th>1</th>\n",
       "      <td>Opioids</td>\n",
       "      <td>Deaths</td>\n",
       "      <td>Overall numbers</td>\n",
       "      <td>Total apparent opioid toxicity deaths</td>\n",
       "      <td>Canada</td>\n",
       "      <td>By year</td>\n",
       "      <td>2016</td>\n",
       "      <td>NaN</td>\n",
       "      <td>NaN</td>\n",
       "      <td>Number</td>\n",
       "      <td>2829</td>\n",
       "    </tr>\n",
       "    <tr>\n",
       "      <th>2</th>\n",
       "      <td>Opioids</td>\n",
       "      <td>Deaths</td>\n",
       "      <td>Overall numbers</td>\n",
       "      <td>Total apparent opioid toxicity deaths</td>\n",
       "      <td>Canada</td>\n",
       "      <td>By year</td>\n",
       "      <td>2016</td>\n",
       "      <td>NaN</td>\n",
       "      <td>NaN</td>\n",
       "      <td>Age-adjusted rate</td>\n",
       "      <td>7.8</td>\n",
       "    </tr>\n",
       "    <tr>\n",
       "      <th>3</th>\n",
       "      <td>Opioids</td>\n",
       "      <td>Deaths</td>\n",
       "      <td>Overall numbers</td>\n",
       "      <td>Total apparent opioid toxicity deaths</td>\n",
       "      <td>Canada</td>\n",
       "      <td>By year</td>\n",
       "      <td>2017</td>\n",
       "      <td>NaN</td>\n",
       "      <td>NaN</td>\n",
       "      <td>Crude rate</td>\n",
       "      <td>10.7</td>\n",
       "    </tr>\n",
       "    <tr>\n",
       "      <th>4</th>\n",
       "      <td>Opioids</td>\n",
       "      <td>Deaths</td>\n",
       "      <td>Overall numbers</td>\n",
       "      <td>Total apparent opioid toxicity deaths</td>\n",
       "      <td>Canada</td>\n",
       "      <td>By year</td>\n",
       "      <td>2017</td>\n",
       "      <td>NaN</td>\n",
       "      <td>NaN</td>\n",
       "      <td>Number</td>\n",
       "      <td>3921</td>\n",
       "    </tr>\n",
       "  </tbody>\n",
       "</table>\n",
       "</div>"
      ],
      "text/plain": [
       "  Substance  Source Specific_Measure                             Type_Event  \\\n",
       "0   Opioids  Deaths  Overall numbers  Total apparent opioid toxicity deaths   \n",
       "1   Opioids  Deaths  Overall numbers  Total apparent opioid toxicity deaths   \n",
       "2   Opioids  Deaths  Overall numbers  Total apparent opioid toxicity deaths   \n",
       "3   Opioids  Deaths  Overall numbers  Total apparent opioid toxicity deaths   \n",
       "4   Opioids  Deaths  Overall numbers  Total apparent opioid toxicity deaths   \n",
       "\n",
       "   Region Time_Period Year_Quarter Aggregator Disaggregator  \\\n",
       "0  Canada     By year         2016        NaN           NaN   \n",
       "1  Canada     By year         2016        NaN           NaN   \n",
       "2  Canada     By year         2016        NaN           NaN   \n",
       "3  Canada     By year         2017        NaN           NaN   \n",
       "4  Canada     By year         2017        NaN           NaN   \n",
       "\n",
       "                Unit Value  \n",
       "0         Crude rate   7.8  \n",
       "1             Number  2829  \n",
       "2  Age-adjusted rate   7.8  \n",
       "3         Crude rate  10.7  \n",
       "4             Number  3921  "
      ]
     },
     "execution_count": 13,
     "metadata": {},
     "output_type": "execute_result"
    }
   ],
   "source": [
    "df.head()"
   ]
  },
  {
   "cell_type": "code",
   "execution_count": 14,
   "id": "db0ae810",
   "metadata": {
    "execution": {
     "iopub.execute_input": "2022-11-29T20:18:21.003832Z",
     "iopub.status.busy": "2022-11-29T20:18:21.003433Z",
     "iopub.status.idle": "2022-11-29T20:18:21.018948Z",
     "shell.execute_reply": "2022-11-29T20:18:21.018021Z"
    },
    "papermill": {
     "duration": 0.025658,
     "end_time": "2022-11-29T20:18:21.020836",
     "exception": false,
     "start_time": "2022-11-29T20:18:20.995178",
     "status": "completed"
    },
    "tags": []
   },
   "outputs": [
    {
     "name": "stderr",
     "output_type": "stream",
     "text": [
      "/opt/conda/lib/python3.7/site-packages/pandas/core/frame.py:4913: SettingWithCopyWarning: \n",
      "A value is trying to be set on a copy of a slice from a DataFrame\n",
      "\n",
      "See the caveats in the documentation: https://pandas.pydata.org/pandas-docs/stable/user_guide/indexing.html#returning-a-view-versus-a-copy\n",
      "  errors=errors,\n"
     ]
    }
   ],
   "source": [
    "# Drug opioid overdose death rate by province and nationally over time\n",
    "\n",
    "# test_opioid = df[df['Specific_Measure'] == 'Overall numbers']\n",
    "\n",
    "opioid_deaths_year = df[(df['Substance'] == 'Opioids') \\\n",
    "                       & (df['Source'] == 'Deaths') \\\n",
    "                       & (df['Type_Event'] == 'Total apparent opioid toxicity deaths')\n",
    "                       & (df['Time_Period'] == 'By year') \\\n",
    "                       & (df['Unit'] == 'Number')]\n",
    "\n",
    "opioid_deaths_year.drop(labels=['Substance', \\\n",
    "                                                     'Source', \\\n",
    "                                                    'Specific_Measure', \\\n",
    "                                                     'Type_Event', \\\n",
    "                                                    'Time_Period', \\\n",
    "                                                     'Unit', \\\n",
    "                                                       'Aggregator', \\\n",
    "                                                       'Disaggregator'] \\\n",
    "                                             , axis=1, inplace=True)"
   ]
  },
  {
   "cell_type": "code",
   "execution_count": 15,
   "id": "70217681",
   "metadata": {
    "execution": {
     "iopub.execute_input": "2022-11-29T20:18:21.037226Z",
     "iopub.status.busy": "2022-11-29T20:18:21.036439Z",
     "iopub.status.idle": "2022-11-29T20:18:21.047498Z",
     "shell.execute_reply": "2022-11-29T20:18:21.046886Z"
    },
    "papermill": {
     "duration": 0.020938,
     "end_time": "2022-11-29T20:18:21.049097",
     "exception": false,
     "start_time": "2022-11-29T20:18:21.028159",
     "status": "completed"
    },
    "tags": []
   },
   "outputs": [
    {
     "data": {
      "text/html": [
       "<div>\n",
       "<style scoped>\n",
       "    .dataframe tbody tr th:only-of-type {\n",
       "        vertical-align: middle;\n",
       "    }\n",
       "\n",
       "    .dataframe tbody tr th {\n",
       "        vertical-align: top;\n",
       "    }\n",
       "\n",
       "    .dataframe thead th {\n",
       "        text-align: right;\n",
       "    }\n",
       "</style>\n",
       "<table border=\"1\" class=\"dataframe\">\n",
       "  <thead>\n",
       "    <tr style=\"text-align: right;\">\n",
       "      <th></th>\n",
       "      <th>Region</th>\n",
       "      <th>Year_Quarter</th>\n",
       "      <th>Value</th>\n",
       "    </tr>\n",
       "  </thead>\n",
       "  <tbody>\n",
       "    <tr>\n",
       "      <th>1</th>\n",
       "      <td>Canada</td>\n",
       "      <td>2016</td>\n",
       "      <td>2829</td>\n",
       "    </tr>\n",
       "    <tr>\n",
       "      <th>4</th>\n",
       "      <td>Canada</td>\n",
       "      <td>2017</td>\n",
       "      <td>3921</td>\n",
       "    </tr>\n",
       "    <tr>\n",
       "      <th>7</th>\n",
       "      <td>Canada</td>\n",
       "      <td>2018</td>\n",
       "      <td>4406</td>\n",
       "    </tr>\n",
       "    <tr>\n",
       "      <th>10</th>\n",
       "      <td>Canada</td>\n",
       "      <td>2019</td>\n",
       "      <td>3698</td>\n",
       "    </tr>\n",
       "    <tr>\n",
       "      <th>13</th>\n",
       "      <td>Canada</td>\n",
       "      <td>2020</td>\n",
       "      <td>6638</td>\n",
       "    </tr>\n",
       "    <tr>\n",
       "      <th>...</th>\n",
       "      <td>...</td>\n",
       "      <td>...</td>\n",
       "      <td>...</td>\n",
       "    </tr>\n",
       "    <tr>\n",
       "      <th>550</th>\n",
       "      <td>Nunavut</td>\n",
       "      <td>2017</td>\n",
       "      <td>Suppr.</td>\n",
       "    </tr>\n",
       "    <tr>\n",
       "      <th>553</th>\n",
       "      <td>Nunavut</td>\n",
       "      <td>2018</td>\n",
       "      <td>Suppr.</td>\n",
       "    </tr>\n",
       "    <tr>\n",
       "      <th>556</th>\n",
       "      <td>Nunavut</td>\n",
       "      <td>2019</td>\n",
       "      <td>Suppr.</td>\n",
       "    </tr>\n",
       "    <tr>\n",
       "      <th>559</th>\n",
       "      <td>Nunavut</td>\n",
       "      <td>2020</td>\n",
       "      <td>Suppr.</td>\n",
       "    </tr>\n",
       "    <tr>\n",
       "      <th>562</th>\n",
       "      <td>Nunavut</td>\n",
       "      <td>2021</td>\n",
       "      <td>Suppr.</td>\n",
       "    </tr>\n",
       "  </tbody>\n",
       "</table>\n",
       "<p>84 rows × 3 columns</p>\n",
       "</div>"
      ],
      "text/plain": [
       "      Region Year_Quarter   Value\n",
       "1     Canada         2016    2829\n",
       "4     Canada         2017    3921\n",
       "7     Canada         2018    4406\n",
       "10    Canada         2019    3698\n",
       "13    Canada         2020    6638\n",
       "..       ...          ...     ...\n",
       "550  Nunavut         2017  Suppr.\n",
       "553  Nunavut         2018  Suppr.\n",
       "556  Nunavut         2019  Suppr.\n",
       "559  Nunavut         2020  Suppr.\n",
       "562  Nunavut         2021  Suppr.\n",
       "\n",
       "[84 rows x 3 columns]"
      ]
     },
     "execution_count": 15,
     "metadata": {},
     "output_type": "execute_result"
    }
   ],
   "source": [
    "opioid_deaths_year"
   ]
  },
  {
   "cell_type": "code",
   "execution_count": null,
   "id": "75f859ac",
   "metadata": {
    "papermill": {
     "duration": 0.007461,
     "end_time": "2022-11-29T20:18:21.064310",
     "exception": false,
     "start_time": "2022-11-29T20:18:21.056849",
     "status": "completed"
    },
    "tags": []
   },
   "outputs": [],
   "source": []
  },
  {
   "cell_type": "markdown",
   "id": "6029d763",
   "metadata": {
    "papermill": {
     "duration": 0.008099,
     "end_time": "2022-11-29T20:18:21.080174",
     "exception": false,
     "start_time": "2022-11-29T20:18:21.072075",
     "status": "completed"
    },
    "tags": []
   },
   "source": [
    "# Acknowledgements"
   ]
  },
  {
   "cell_type": "code",
   "execution_count": null,
   "id": "0fd15392",
   "metadata": {},
   "outputs": [],
   "source": [
    "# this is sample text"
   ]
  }
 ],
 "metadata": {
  "kernelspec": {
   "display_name": "Python 3 (ipykernel)",
   "language": "python",
   "name": "python3"
  },
  "language_info": {
   "codemirror_mode": {
    "name": "ipython",
    "version": 3
   },
   "file_extension": ".py",
   "mimetype": "text/x-python",
   "name": "python",
   "nbconvert_exporter": "python",
   "pygments_lexer": "ipython3",
   "version": "3.8.13"
  },
  "papermill": {
   "default_parameters": {},
   "duration": 8.733055,
   "end_time": "2022-11-29T20:18:21.709339",
   "environment_variables": {},
   "exception": null,
   "input_path": "__notebook__.ipynb",
   "output_path": "__notebook__.ipynb",
   "parameters": {},
   "start_time": "2022-11-29T20:18:12.976284",
   "version": "2.3.4"
  }
 },
 "nbformat": 4,
 "nbformat_minor": 5
}
